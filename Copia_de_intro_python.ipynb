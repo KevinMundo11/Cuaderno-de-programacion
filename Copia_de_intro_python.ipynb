{
 "cells": [
  {
   "cell_type": "markdown",
   "metadata": {
    "id": "2uJL4NbdtnQd"
   },
   "source": [
    "<a href=\"https://colab.research.google.com/github/mcd-unison/material-programacion/blob/main/intro-python.ipynb\" target=\"_parent\"><img src=\"https://colab.research.google.com/assets/colab-badge.svg\" alt=\"Open In Colab\"/></a>"
   ]
  },
  {
   "cell_type": "markdown",
   "metadata": {
    "id": "_5O2TS29tnQg"
   },
   "source": [
    "<center>\n",
    "<p><img src=\"https://mcd.unison.mx/wp-content/themes/awaken/img/logo_mcd.png\" width=\"100\">\n",
    "</p>\n",
    "\n",
    "\n",
    "\n",
    "# Curso Propedéutico en *Programación*\n",
    "\n",
    "## Introducción a `python` resolviendo preguntas\n",
    "\n",
    "\n",
    "**Julio Waissman Vilanova**\n",
    "\n"
   ]
  },
  {
   "cell_type": "markdown",
   "metadata": {
    "id": "ZcKjfK46tnQh"
   },
   "source": [
    "### Tipos\n",
    "\n",
    "¿Cuales son los tipos de datos básicos? Revisa los tipos siguientes:\n",
    "\n",
    "1. Tipos numéricos `int`, `float`, `complex`\n",
    "2. Cadenas de caracteres\n",
    "3. Tuplas\n",
    "4. Listas\n",
    "5. Diccionarios\n",
    "6. Conjuntos\n",
    "\n",
    "Da ejemplo de sobrecarga de operadores (en particular `+` y `*`)\n",
    "\n"
   ]
  },
  {
   "cell_type": "code",
   "execution_count": 27,
   "metadata": {
    "id": "h7Gy0BsmtnQh"
   },
   "outputs": [
    {
     "name": "stdout",
     "output_type": "stream",
     "text": [
      "a+b=3\n",
      "a*b=2\n",
      "b*c=HolaHola\n"
     ]
    }
   ],
   "source": [
    "a=1\n",
    "b=2\n",
    "c='Hola'\n",
    "print(f'a+b={a+b}\\na*b={a*b}\\nb*c={b*c}')\n"
   ]
  },
  {
   "cell_type": "markdown",
   "metadata": {
    "id": "_xyyuYCPtnQi"
   },
   "source": [
    "¿Que significa que unos tipos sean *mutables* y otros *inmutables*?\n",
    "\n",
    "Realiza un pequeño programa donde quede claro lo que significa que un tipo de datos sea mutable, e ilustra el uso del método `copy.deepcopy()`."
   ]
  },
  {
   "cell_type": "code",
   "execution_count": 24,
   "metadata": {
    "id": "3jjVRA9QtnQi"
   },
   "outputs": [
    {
     "data": {
      "text/plain": [
       "[0, 2, 3, 4]"
      ]
     },
     "execution_count": 24,
     "metadata": {},
     "output_type": "execute_result"
    }
   ],
   "source": [
    "#Tipo de dato mutable\n",
    "\n",
    "lista = [1,2,3,4]\n",
    "lista2 = lista\n",
    "lista[0]=0\n",
    "\n",
    "lista2"
   ]
  },
  {
   "cell_type": "code",
   "execution_count": 25,
   "metadata": {},
   "outputs": [],
   "source": [
    "#Tipo de dato inmutable\n",
    "tupla=(1,2,3,4)"
   ]
  },
  {
   "cell_type": "code",
   "execution_count": 26,
   "metadata": {},
   "outputs": [
    {
     "name": "stdout",
     "output_type": "stream",
     "text": [
      "La lista original ahora es: [0, 2, 0, 4] \n",
      "Mientras la lista con el metodo deepcopy es: [0, 2, 3, 4]\n"
     ]
    }
   ],
   "source": [
    "import copy\n",
    "listadeepcopy = copy.deepcopy(lista)\n",
    "lista[2]=0\n",
    "print(f'La lista original ahora es: {lista} \\nMientras la lista con el metodo deepcopy es: {listadeepcopy}')"
   ]
  },
  {
   "cell_type": "markdown",
   "metadata": {
    "id": "bWMeudqCtnQi"
   },
   "source": [
    "### *Comprehension* de listas, conjuntos y diccionarios\n",
    "\n",
    "Escribe, en una sola linea, una expresión que genere una lista con todos los números enteros que se encuentran entre $1$ y $n$\n",
    "que sean divisibles por $3$ y $7$ y que el dígito menos significativo del número sea $6$."
   ]
  },
  {
   "cell_type": "code",
   "execution_count": 32,
   "metadata": {
    "id": "aa0aYCYDtnQi"
   },
   "outputs": [
    {
     "name": "stdout",
     "output_type": "stream",
     "text": [
      "{126: 126, 336: 336, 546: 546, 756: 756, 966: 966, 1176: 1176, 1386: 1386, 1596: 1596, 1806: 1806, 2016: 2016, 2226: 2226, 2436: 2436, 2646: 2646, 2856: 2856, 3066: 3066, 3276: 3276, 3486: 3486, 3696: 3696, 3906: 3906, 4116: 4116, 4326: 4326, 4536: 4536, 4746: 4746, 4956: 4956, 5166: 5166, 5376: 5376, 5586: 5586, 5796: 5796, 6006: 6006, 6216: 6216, 6426: 6426, 6636: 6636, 6846: 6846, 7056: 7056, 7266: 7266, 7476: 7476, 7686: 7686, 7896: 7896, 8106: 8106, 8316: 8316, 8526: 8526, 8736: 8736, 8946: 8946, 9156: 9156, 9366: 9366, 9576: 9576, 9786: 9786, 9996: 9996}\n"
     ]
    }
   ],
   "source": [
    "n = 10_000\n",
    "\n",
    "listacumple = {x: x for x in range(1,n+1) if x%3==0 and x%7==0 and x%10==6}\n",
    "\n",
    "print(listacumple)\n"
   ]
  },
  {
   "cell_type": "markdown",
   "metadata": {
    "id": "QTbcnnhYtnQj"
   },
   "source": [
    "### Funciones\n",
    "\n",
    "Escribe una función que:\n",
    "\n",
    "1. reciba una lista de elementos (letras, números, lo que sea),\n",
    "2. cuente la ocurrencia de cada elemento en la lista,\n",
    "3. devuelva las ocurrencias en forma de diccionario,\n",
    "4. si imprime es True, imprima un histograma de ocurrencias, por ejemplo:\n",
    "\n",
    "```python\n",
    "\n",
    "lista = [1,'a',1, 13, 'hola', 'a', 1, 1, 'a', 1]\n",
    "\n",
    "d = funcion_ejemplo(lista, imprime = True)\n",
    "\n",
    "1    \t\t***** \t(5 -> 50%)\n",
    "'a'  \t\t***   \t(3 -> 30%)\n",
    "13\t\t*\t(1 -> 10%)\n",
    "'hola'\t\t*\t(1 -> 10%)\n",
    "\n",
    "```"
   ]
  },
  {
   "cell_type": "code",
   "execution_count": 39,
   "metadata": {
    "id": "EG28c2TjtnQj"
   },
   "outputs": [],
   "source": [
    "def funcion_ejemplo(lista, imprime=True):\n",
    "    \"\"\"Funcion que revisa la incidencia de un mismo elemento en una lista\"\"\"\n",
    "    d = {x : lista.count(x) for x in set(lista)}\n",
    "    if imprime:\n",
    "        for keys, values in d.items():\n",
    "            print(f'{keys}\\t\\t {values * \"*\"}\\t\\t {values/len(lista):.2%}')\n"
   ]
  },
  {
   "cell_type": "code",
   "execution_count": 40,
   "metadata": {
    "id": "yzlyaM64tnQk"
   },
   "outputs": [
    {
     "name": "stdout",
     "output_type": "stream",
     "text": [
      "hola\t\t *\t\t 10.00%\n",
      "1\t\t *****\t\t 50.00%\n",
      "a\t\t ***\t\t 30.00%\n",
      "13\t\t *\t\t 10.00%\n",
      "None\n"
     ]
    }
   ],
   "source": [
    "# Realiza pruebas aquí\n",
    "listaejemplo = [1,'a',1, 13, 'hola', 'a', 1, 1, 'a', 1]\n",
    "d = funcion_ejemplo(listaejemplo, imprime = True)\n",
    "print(d)"
   ]
  },
  {
   "cell_type": "markdown",
   "metadata": {
    "id": "xbLY6xantnQk"
   },
   "source": [
    "Escribe una función que modifique un diccionario y regrese el diccionario modificado y una copia del original, donde cada entrada\n",
    "del diccionario sea una lista de valores. Ten en cuenta que si una entrada del diccionario es de tipo mutable, al modificarlo en la\n",
    "copia se modifica el original. Utiliza el modulo `copy` para evitar este problema. Ejemplo de la función:\n",
    "\n",
    "```python\n",
    "dic1 = {'Pepe':[12, 'enero', 1980], 'Carolina':[15,'mayo',1975],'Paco':[10,'nov',1970]}\n",
    "dic2 = fundicos(dic1, 'Pepe', 1, 'febrero')\n",
    "\n",
    "print(dic1)\n",
    "{'Pepe':[12, 'enero', 1980], 'Carolina':[15,'mayo',1975],'Paco':[10,'nov',1970]}\n",
    "\n",
    "print(dic2)\n",
    "{'Pepe':[12, 'febrero', 1980], 'Carolina':[15,'mayo',1975],'Paco':[10,'nov',1970]}\n",
    "```"
   ]
  },
  {
   "cell_type": "code",
   "execution_count": 63,
   "metadata": {
    "id": "USINyqMWtnQk"
   },
   "outputs": [],
   "source": [
    "def fundicos(dic1, nombre, dia, mes):\n",
    "    diccopy = copy.deepcopy(dic1)\n",
    "    if nombre in diccopy.keys():\n",
    "        diccopy[nombre][0]=dia\n",
    "        diccopy[nombre][1]=mes\n",
    "    return diccopy"
   ]
  },
  {
   "cell_type": "code",
   "execution_count": 67,
   "metadata": {
    "id": "XtjLXAdhtnQl"
   },
   "outputs": [
    {
     "name": "stdout",
     "output_type": "stream",
     "text": [
      "{'Pepe': [12, 'enero', 1980], 'Carolina': [15, 'mayo', 1975], 'Paco': [10, 'nov', 1970]}\n",
      "{'Pepe': [1, 'febrero', 1980], 'Carolina': [15, 'mayo', 1975], 'Paco': [10, 'nov', 1970]}\n"
     ]
    }
   ],
   "source": [
    "# Realiza pruebas de fundicos aquí\n",
    "dic1 = {'Pepe':[12, 'enero', 1980], 'Carolina':[15,'mayo',1975],'Paco':[10,'nov',1970]}\n",
    "dic2 = fundicos(dic1, 'Pepe', 1, 'febrero')\n",
    "\n",
    "print(dic1)\n",
    "print(dic2)"
   ]
  },
  {
   "cell_type": "markdown",
   "metadata": {
    "id": "yxSBO3lNtnQm"
   },
   "source": [
    "### Generadores\n",
    "\n",
    "Escribe un generador que reciba una lista y genere todas las permutaciones que se puedan hacer con los elementos de la lista"
   ]
  },
  {
   "cell_type": "code",
   "execution_count": 70,
   "metadata": {
    "id": "sFqnZs3BtnQm"
   },
   "outputs": [],
   "source": [
    "# Escribe aqui fun1\n",
    "\n",
    "def permutaciones(lista):\n",
    "    \"\"\"\n",
    "    Permutaciones de los elementos de una lista.\n",
    "\n",
    "    Devuelve un generador con todas las permutaciones posibles de los elementos de la lista de entrada\n",
    "    \"\"\"\n",
    "    #paso base\n",
    "    if len(lista)==0:\n",
    "        yield lista\n",
    "    #paso general\n",
    "    else:\n",
    "        for (i,elemento) in enumerate(lista):\n",
    "            lista_sin_elemento_i = lista[:i]+lista[i+1:]\n",
    "            for p in permutaciones(lista_sin_elemento_i):\n",
    "                yield[elemento]+p"
   ]
  },
  {
   "cell_type": "code",
   "execution_count": 71,
   "metadata": {
    "id": "_gwuwEmftnQm"
   },
   "outputs": [
    {
     "name": "stdout",
     "output_type": "stream",
     "text": [
      "['a', 'b', 'c', 'd']\n",
      "['a', 'b', 'd', 'c']\n",
      "['a', 'c', 'b', 'd']\n",
      "['a', 'c', 'd', 'b']\n",
      "['a', 'd', 'b', 'c']\n",
      "['a', 'd', 'c', 'b']\n",
      "['b', 'a', 'c', 'd']\n",
      "['b', 'a', 'd', 'c']\n",
      "['b', 'c', 'a', 'd']\n",
      "['b', 'c', 'd', 'a']\n",
      "['b', 'd', 'a', 'c']\n",
      "['b', 'd', 'c', 'a']\n",
      "['c', 'a', 'b', 'd']\n",
      "['c', 'a', 'd', 'b']\n",
      "['c', 'b', 'a', 'd']\n",
      "['c', 'b', 'd', 'a']\n",
      "['c', 'd', 'a', 'b']\n",
      "['c', 'd', 'b', 'a']\n",
      "['d', 'a', 'b', 'c']\n",
      "['d', 'a', 'c', 'b']\n",
      "['d', 'b', 'a', 'c']\n",
      "['d', 'b', 'c', 'a']\n",
      "['d', 'c', 'a', 'b']\n",
      "['d', 'c', 'b', 'a']\n"
     ]
    }
   ],
   "source": [
    "# Realiza pruebas de fun2 aquí\n",
    "for p in permutaciones(['a', 'b', 'c', 'd']):\n",
    "    print(p)"
   ]
  },
  {
   "cell_type": "markdown",
   "metadata": {
    "id": "Xu36UmXetnQm"
   },
   "source": [
    "Ahora escribe una funcipn que reciba 4 digitos del 0 al 9, y devuelva una lista con todas las horas váidas que se puedan hacer con estos dígitos en forma de lista de strings con la forma `\"HH:MM\"`."
   ]
  },
  {
   "cell_type": "code",
   "execution_count": 97,
   "metadata": {
    "id": "T8Yfeiu6tnQm"
   },
   "outputs": [],
   "source": [
    "def horas_validas(lista):\n",
    "    \"\"\"\n",
    "    Funcion que apartir de los elementos de una lista te crea otra lista con las horas permitidas en el formato HH:MM\n",
    "    \"\"\"\n",
    "    horasvalidas=[]\n",
    "    for h1 in lista:\n",
    "        for h2 in lista:\n",
    "            h=10*h1+h2\n",
    "            if h<24:\n",
    "                for m1 in lista:\n",
    "                    for m2 in lista:\n",
    "                        m=m1*10+m2\n",
    "                        if m<60:\n",
    "                            horasvalidas.append(f'{h:02d}:{m:02d}')\n",
    "    return horasvalidas\n",
    "\n",
    "        "
   ]
  },
  {
   "cell_type": "markdown",
   "metadata": {
    "id": "s8IcJSs3tnQm"
   },
   "source": [
    "Validando:"
   ]
  },
  {
   "cell_type": "code",
   "execution_count": 98,
   "metadata": {
    "id": "7y4AC9QgtnQm"
   },
   "outputs": [
    {
     "name": "stdout",
     "output_type": "stream",
     "text": [
      "['00:00', '00:02', '00:03', '00:07', '00:20', '00:22', '00:23', '00:27', '00:30', '00:32', '00:33', '00:37', '02:00', '02:02', '02:03', '02:07', '02:20', '02:22', '02:23', '02:27', '02:30', '02:32', '02:33', '02:37', '03:00', '03:02', '03:03', '03:07', '03:20', '03:22', '03:23', '03:27', '03:30', '03:32', '03:33', '03:37', '07:00', '07:02', '07:03', '07:07', '07:20', '07:22', '07:23', '07:27', '07:30', '07:32', '07:33', '07:37', '20:00', '20:02', '20:03', '20:07', '20:20', '20:22', '20:23', '20:27', '20:30', '20:32', '20:33', '20:37', '22:00', '22:02', '22:03', '22:07', '22:20', '22:22', '22:23', '22:27', '22:30', '22:32', '22:33', '22:37', '23:00', '23:02', '23:03', '23:07', '23:20', '23:22', '23:23', '23:27', '23:30', '23:32', '23:33', '23:37']\n"
     ]
    }
   ],
   "source": [
    "print(horas_validas([0,2,3,7]))"
   ]
  },
  {
   "cell_type": "markdown",
   "metadata": {
    "id": "IqiY7R3FtnQm"
   },
   "source": [
    "Escribe una función, lo más compacta posible, que escoja entre los 3 patrones ascii a continuación, e imprima en pantalla\n",
    "el deseado, pero de dimensión $n$ ($n \\ge 4$), toma en cuanta que para algunos valores de $n$ habrá\n",
    "algún(os) patrones que no se puedan hacer.\n",
    "\n",
    "```\n",
    "          *             ++++           oooooooo\n",
    "          **            ++++           ooo  ooo\n",
    "          ***           ++++           oo    oo\n",
    "          ****          ++++           o      o\n",
    "          *****             ++++       o      o\n",
    "          ******            ++++       oo    oo\n",
    "          *******           ++++       ooo  ooo\n",
    "          ********          ++++       oooooooo\n",
    "\n",
    "```"
   ]
  },
  {
   "cell_type": "code",
   "execution_count": 138,
   "metadata": {
    "id": "DUPDTGjQtnQn"
   },
   "outputs": [],
   "source": [
    "def imprimir_patron(patron, n):\n",
    "    if n < 4:\n",
    "        print(\"La dimension debe ser mayor o igual que 4.\")\n",
    "        return\n",
    "\n",
    "    if patron == 1: #Piramide de asteriscos\n",
    "        for i in range(1,n):\n",
    "            print('*' * i)\n",
    "    elif patron == 2: #Patron con signos +\n",
    "        if n%2 != 0:\n",
    "            print(\"Valido solo para n par.\")\n",
    "            return\n",
    "        mitad_n = n//2 #Dividomos n/2 pero con propiedad int\n",
    "        for i in range(mitad_n):\n",
    "            print('+' * mitad_n + ' ' * mitad_n) #imprime el primer bloque\n",
    "        for i in range(mitad_n):\n",
    "            print(' ' * mitad_n + '+' * mitad_n) #imprime segundo bloque desfasado a la derecha\n",
    "    elif patron == 3: #Patron con o's\n",
    "        if n%2 != 0:\n",
    "            print(\"Valido solo para n par.\")\n",
    "            return\n",
    "        mitad_n = n//2 #Dividomos n/2 pero con propiedad int\n",
    "        print('o' * n) #Primer renglon completo\n",
    "        for i in range(mitad_n - 1): #En este for y en el siguiente me auxilie de chat-gptp ara imprimir el numero de espacios correctos\n",
    "            print('o' * (mitad_n - i - 1) + ' ' * (2 * (i + 1)) + 'o' * (mitad_n - i - 1)) #Llenamos n//2 renglones\n",
    "        print('o' + ' ' * (n - 2) + 'o') #Este renglon me hace que el renglon n//2 y n//2+1 sean iguales \n",
    "        for i in range(mitad_n - 2):\n",
    "            print('o' * (i + 2) + ' ' * (n - 2 * (i + 2)) + 'o' * (i + 2)) #Llenamos renglones desde n//2 +1 hasta n\n",
    "        print('o' * n) #Ultimo renglon completo\n",
    "    else:\n",
    "        print(\"Las opciones son 1, 2 o 3.\")"
   ]
  },
  {
   "cell_type": "code",
   "execution_count": 139,
   "metadata": {},
   "outputs": [
    {
     "name": "stdout",
     "output_type": "stream",
     "text": [
      "La dimension debe ser mayor o igual que 4.\n"
     ]
    }
   ],
   "source": [
    "#Ejemplos de uso\n",
    "imprimir_patron(1, 2)"
   ]
  },
  {
   "cell_type": "code",
   "execution_count": 140,
   "metadata": {},
   "outputs": [
    {
     "name": "stdout",
     "output_type": "stream",
     "text": [
      "*\n",
      "**\n",
      "***\n",
      "****\n",
      "*****\n",
      "******\n",
      "*******\n",
      "********\n",
      "*********\n"
     ]
    }
   ],
   "source": [
    "imprimir_patron(1, 10)"
   ]
  },
  {
   "cell_type": "code",
   "execution_count": 141,
   "metadata": {},
   "outputs": [
    {
     "name": "stdout",
     "output_type": "stream",
     "text": [
      "Valido solo para n par.\n"
     ]
    }
   ],
   "source": [
    "imprimir_patron(2, 7)"
   ]
  },
  {
   "cell_type": "code",
   "execution_count": 142,
   "metadata": {},
   "outputs": [
    {
     "name": "stdout",
     "output_type": "stream",
     "text": [
      "+++++     \n",
      "+++++     \n",
      "+++++     \n",
      "+++++     \n",
      "+++++     \n",
      "     +++++\n",
      "     +++++\n",
      "     +++++\n",
      "     +++++\n",
      "     +++++\n"
     ]
    }
   ],
   "source": [
    "imprimir_patron(2, 10)"
   ]
  },
  {
   "cell_type": "code",
   "execution_count": 143,
   "metadata": {},
   "outputs": [
    {
     "name": "stdout",
     "output_type": "stream",
     "text": [
      "Valido solo para n par.\n"
     ]
    }
   ],
   "source": [
    "imprimir_patron(3, 9)"
   ]
  },
  {
   "cell_type": "code",
   "execution_count": 144,
   "metadata": {},
   "outputs": [
    {
     "name": "stdout",
     "output_type": "stream",
     "text": [
      "oooooooooooo\n",
      "ooooo  ooooo\n",
      "oooo    oooo\n",
      "ooo      ooo\n",
      "oo        oo\n",
      "o          o\n",
      "o          o\n",
      "oo        oo\n",
      "ooo      ooo\n",
      "oooo    oooo\n",
      "ooooo  ooooo\n",
      "oooooooooooo\n"
     ]
    }
   ],
   "source": [
    "imprimir_patron(3, 12)"
   ]
  },
  {
   "cell_type": "markdown",
   "metadata": {
    "id": "dsWnnFZatnQn"
   },
   "source": [
    "### Clases y objetos\n",
    "\n",
    "Diseña una clase Matriz con las siguientes características:\n",
    "\n",
    "1. Como inicialización de un objeto es necesario conocer $n$, $m$ y tipo. En caso de no proporcionar $m$ la matriz se asume cuadrada de $n \\times n$. En caso de no proporcionar $n$ la matriz tendrá una dimensión de $1 \\times 1$.\n",
    "2. De no especificarse todos los elementos se inicializan a 0, a menos que exista un tipo especial ( `unos` o `diag` por el momento).\n",
    "3. Implementa con sobrecarga la suma de matrices, la multiplicación de matrices y la multiplicación por un escalar.\n",
    "4. Implementa como métodos eliminar columna y eliminar fila.   \n",
    "5. Programa la representación visual de la matriz.\n",
    "6. Ten en cuenta tambien el manejo de errores.\n",
    "\n",
    "\n",
    "Ejemplo de uso:\n",
    "\n",
    "```\n",
    ">>> A = Matriz(n=3, m=4)\n",
    "\n",
    ">>> print(A)\n",
    "0 0 0 0\n",
    "0 0 0 0\n",
    "0 0 0 0\n",
    "\n",
    ">>> A = A.quitafila(2)\n",
    "\n",
    ">>> print(A)\n",
    "0 0 0 0\n",
    "0 0 0 0\n",
    "\n",
    ">>> B = Matriz(4,4,'diag')\n",
    "\n",
    ">>> print(B)\n",
    "1 0 0 0\n",
    "0 1 0 0\n",
    "0 0 1 0\n",
    "0 0 0 1\n",
    "\n",
    ">>> C = Matriz(4,1,'unos')\n",
    "\n",
    ">>> print(C)\n",
    "1\n",
    "1\n",
    "1\n",
    "1\n",
    "\n",
    ">>> D = 3 * B * C\n",
    "\n",
    ">>> print(D)\n",
    "3\n",
    "3\n",
    "3\n",
    "3\n",
    "\n",
    ">>> E = 3 * B + C\n",
    "error \"No seas menso, si no son de la misma dimensión las matrices no se pueden sumar\"\n",
    "```"
   ]
  },
  {
   "cell_type": "code",
   "execution_count": 360,
   "metadata": {
    "id": "d42kRhpNtnQn"
   },
   "outputs": [],
   "source": [
    "class Matriz:\n",
    "    def __init__(self, tipo, n=1, m=n):\n",
    "        if tipo not in [None, 'unos', 'diag']:\n",
    "            raise ValueError('El tipo no es valido.')\n",
    "        if n<1 or (m is not None and m<1):\n",
    "            raise ValueError('Dimensiones no validas.')\n",
    "        self.tipo = tipo\n",
    "        self.n = n\n",
    "        self.m = m if m is not None else n\n",
    "        if tipo=='unos':\n",
    "            self.matriz = [[1]*self.m for _ in range(self.n)]\n",
    "        elif tipo=='diag':\n",
    "            self.matriz =[[1 if i==j else 0 for j in range(self.m)] for i in range(self.n)]\n",
    "        else:\n",
    "            self.matriz =[[0]*self.m for _ in range(self.n)]\n",
    "\n",
    "    def __str__(self): #Funcion para poder usar print (Ayuda de Chat-gpt)\n",
    "        return '\\n'.join([' '.join(map(str,fila)) for fila in self.matriz])\n",
    "\n",
    "    \n",
    "    def suma(self, B):\n",
    "        if self.n != B.n or self.m != B.m:\n",
    "            raise ValueError('Las dimensiones son distintas y no se puede sumar')\n",
    "        suma = Matriz(None, self.n, self.m)\n",
    "        suma.matriz = [[self.matriz[i][j] + B.matriz[i][j] for j in range(self.m)] for i in range(self.n)] \n",
    "        return suma\n",
    "        \n",
    "    def mult(self,B):\n",
    "        if self.m != B.n:\n",
    "            raise ValueError('Las matrices no se pueden multiplicar')\n",
    "        mult= Matriz(None,self.n, self.m)\n",
    "        mult.matriz = [[sum(self.matriz[i][k] * B.matriz[k][j] for k in range(self.m)) for j in range(B.m)] for i in range(self.n)]\n",
    "        return mult \n",
    "\n",
    "\n",
    "    def multesc(self, a):\n",
    "        mult = Matriz(None,self.n, self.m)\n",
    "        mult.matriz = [[self.matriz[i][j] *  a for j in range(self.m)] for i in range(self.n)]\n",
    "        return mult\n",
    "\n",
    "    def eliminar_fila(self, fila):\n",
    "        if fila < 0 or fila >= self.n:\n",
    "            raise IndexError('El índice de la fila está fuera de rango')\n",
    "        self.matriz.pop(fila)\n",
    "        self.n -= 1\n",
    "\n",
    "    def transponer(self):\n",
    "        transpuesta = Matriz(None, self.m, self.n)\n",
    "        transpuesta.matriz = [[self.matriz[i][j] for i in range(self.n)] for j in range(self.m)]\n",
    "        return transpuesta\n",
    "\n",
    "\n",
    "    def eliminar_columna(self, columna):\n",
    "        if columna < 0 or columna >= self.m:\n",
    "            raise IndexError('El índice de la columna está fuera de rango')\n",
    "        transpuesta = self.transponer()\n",
    "        transpuesta.matriz.pop(columna)\n",
    "        transpuesta.n -= 1\n",
    "        resultado = transpuesta.transponer()\n",
    "        return resultado\n"
   ]
  },
  {
   "cell_type": "code",
   "execution_count": 361,
   "metadata": {
    "id": "a0BLHJdrtnQn"
   },
   "outputs": [
    {
     "name": "stdout",
     "output_type": "stream",
     "text": [
      "La matriz A es:\n",
      "0 0 0 0\n",
      "0 0 0 0\n",
      "0 0 0 0\n",
      "La matriz A sin la fila 1 es:\n",
      "0 0 0 0\n",
      "0 0 0 0\n",
      "La matriz B es:\n",
      "1 0 0 0\n",
      "0 1 0 0\n",
      "0 0 1 0\n",
      "0 0 0 1\n",
      "La matriz C es:\n",
      "1\n",
      "1\n",
      "1\n",
      "1\n",
      "La matriz 3*B*C es:\n",
      "3\n",
      "3\n",
      "3\n",
      "3\n"
     ]
    },
    {
     "ename": "ValueError",
     "evalue": "Las dimensiones son distintas y no se puede sumar",
     "output_type": "error",
     "traceback": [
      "\u001b[1;31m---------------------------------------------------------------------------\u001b[0m",
      "\u001b[1;31mValueError\u001b[0m                                Traceback (most recent call last)",
      "Cell \u001b[1;32mIn[361], line 22\u001b[0m\n\u001b[0;32m     18\u001b[0m D \u001b[38;5;241m=\u001b[39m (B\u001b[38;5;241m.\u001b[39mmultesc(\u001b[38;5;241m3\u001b[39m))\u001b[38;5;241m.\u001b[39mmult(C)\n\u001b[0;32m     20\u001b[0m \u001b[38;5;28mprint\u001b[39m(\u001b[38;5;124mf\u001b[39m\u001b[38;5;124m'\u001b[39m\u001b[38;5;124mLa matriz 3*B*C es:\u001b[39m\u001b[38;5;130;01m\\n\u001b[39;00m\u001b[38;5;132;01m{\u001b[39;00mD\u001b[38;5;132;01m}\u001b[39;00m\u001b[38;5;124m'\u001b[39m)\n\u001b[1;32m---> 22\u001b[0m E \u001b[38;5;241m=\u001b[39m (B\u001b[38;5;241m.\u001b[39mmultesc(\u001b[38;5;241m3\u001b[39m))\u001b[38;5;241m.\u001b[39msuma(C)\n",
      "Cell \u001b[1;32mIn[360], line 23\u001b[0m, in \u001b[0;36mMatriz.suma\u001b[1;34m(self, B)\u001b[0m\n\u001b[0;32m     21\u001b[0m \u001b[38;5;28;01mdef\u001b[39;00m \u001b[38;5;21msuma\u001b[39m(\u001b[38;5;28mself\u001b[39m, B):\n\u001b[0;32m     22\u001b[0m     \u001b[38;5;28;01mif\u001b[39;00m \u001b[38;5;28mself\u001b[39m\u001b[38;5;241m.\u001b[39mn \u001b[38;5;241m!=\u001b[39m B\u001b[38;5;241m.\u001b[39mn \u001b[38;5;129;01mor\u001b[39;00m \u001b[38;5;28mself\u001b[39m\u001b[38;5;241m.\u001b[39mm \u001b[38;5;241m!=\u001b[39m B\u001b[38;5;241m.\u001b[39mm:\n\u001b[1;32m---> 23\u001b[0m         \u001b[38;5;28;01mraise\u001b[39;00m \u001b[38;5;167;01mValueError\u001b[39;00m(\u001b[38;5;124m'\u001b[39m\u001b[38;5;124mLas dimensiones son distintas y no se puede sumar\u001b[39m\u001b[38;5;124m'\u001b[39m)\n\u001b[0;32m     24\u001b[0m     suma \u001b[38;5;241m=\u001b[39m Matriz(\u001b[38;5;28;01mNone\u001b[39;00m, \u001b[38;5;28mself\u001b[39m\u001b[38;5;241m.\u001b[39mn, \u001b[38;5;28mself\u001b[39m\u001b[38;5;241m.\u001b[39mm)\n\u001b[0;32m     25\u001b[0m     suma\u001b[38;5;241m.\u001b[39mmatriz \u001b[38;5;241m=\u001b[39m [[\u001b[38;5;28mself\u001b[39m\u001b[38;5;241m.\u001b[39mmatriz[i][j] \u001b[38;5;241m+\u001b[39m B\u001b[38;5;241m.\u001b[39mmatriz[i][j] \u001b[38;5;28;01mfor\u001b[39;00m j \u001b[38;5;129;01min\u001b[39;00m \u001b[38;5;28mrange\u001b[39m(\u001b[38;5;28mself\u001b[39m\u001b[38;5;241m.\u001b[39mm)] \u001b[38;5;28;01mfor\u001b[39;00m i \u001b[38;5;129;01min\u001b[39;00m \u001b[38;5;28mrange\u001b[39m(\u001b[38;5;28mself\u001b[39m\u001b[38;5;241m.\u001b[39mn)] \n",
      "\u001b[1;31mValueError\u001b[0m: Las dimensiones son distintas y no se puede sumar"
     ]
    }
   ],
   "source": [
    "# Realiza las pruebas a la clase aquí\n",
    "\n",
    "A = Matriz(None,3, 4)\n",
    "\n",
    "print(f'La matriz A es:\\n{A}')\n",
    "\n",
    "A.eliminar_fila(1)\n",
    "print(f'La matriz A sin la fila 1 es:\\n{A}')\n",
    "\n",
    "\n",
    "B= Matriz('diag',4,4)\n",
    "\n",
    "print(f'La matriz B es:\\n{B}')\n",
    "\n",
    "C = Matriz('unos',4,1)\n",
    "print(f'La matriz C es:\\n{C}')\n",
    "\n",
    "D = (B.multesc(3)).mult(C)\n",
    "\n",
    "print(f'La matriz 3*B*C es:\\n{D}')\n",
    "\n",
    "E = (B.multesc(3)).suma(C) #Aqui al ejecutar te da el error con ValueError"
   ]
  }
 ],
 "metadata": {
  "colab": {
   "provenance": []
  },
  "kernelspec": {
   "display_name": "Python 3 (ipykernel)",
   "language": "python",
   "name": "python3"
  },
  "language_info": {
   "codemirror_mode": {
    "name": "ipython",
    "version": 3
   },
   "file_extension": ".py",
   "mimetype": "text/x-python",
   "name": "python",
   "nbconvert_exporter": "python",
   "pygments_lexer": "ipython3",
   "version": "3.11.5"
  }
 },
 "nbformat": 4,
 "nbformat_minor": 4
}
