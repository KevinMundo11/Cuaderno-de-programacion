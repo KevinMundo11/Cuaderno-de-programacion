{
 "cells": [
  {
   "cell_type": "markdown",
   "id": "4dbaab8e-39aa-4f8d-822c-6f84eb87f295",
   "metadata": {},
   "source": [
    "# Biblioteca NumPy\n",
    "\n",
    "NumPy es una biblioteca para el lenguaje de programación Python que da soporte para crear vectores y matrices grandes multidimensionales, junto con una gran colección de funciones matemáticas de alto nivel para operar con ellas.\n",
    "\n",
    "Sus características principales son:\n",
    "- **Matrices N-dimensionales potentes:** Rápidas y versátiles, los conceptos de vectorización, indexación y broadcasting de NumPy son los estándares de facto de la informática matricial actual.\n",
    "- **Herramientas de cómputo numérico:** NumPy ofrece funciones matemáticas completas, generadores de números aleatorios, rutinas de álgebra lineal, transformadas de Fourier y más.\n",
    "- **Interoperable:** NumPy es compatible con una amplia gama de plataformas de hardware y computación, y funciona bien con bibliotecas distribuidas, de GPU y de matrices dispersas.\n",
    "- **Alto rendimiento:** El núcleo de NumPy es un código C bien optimizado.\n",
    "- **Fácil de usar:** La sintaxis de alto nivel de NumPy lo hace accesible y productivo para programadores de cualquier nivel de formación o experiencia.\n",
    "\n",
    "Instala la biblioteca `numpy`...\n",
    "\n",
    "Esta libreta consiste principalmente de código. Agrega tus notas y observaciones en celdas con formato Markdown."
   ]
  },
  {
   "cell_type": "markdown",
   "id": "5e81dd05-0e4b-4688-8f92-69bbce346b3d",
   "metadata": {},
   "source": [
    "Comenzamos por importar la libreria `Numpy`como as, esto para que cada vez que invoquemos una funcion de esta libreria no tengamos que escribir todo el nombre."
   ]
  },
  {
   "cell_type": "code",
   "execution_count": 1,
   "id": "1aaa00f1-3e50-4e6c-bc02-f6ed6af0a757",
   "metadata": {},
   "outputs": [],
   "source": [
    "import numpy as np #Importamos "
   ]
  },
  {
   "cell_type": "markdown",
   "id": "bd711edf-8cea-4bf6-bce2-428c3829dc2c",
   "metadata": {},
   "source": [
    "Podemos ver que version de `numpy` tenemos. "
   ]
  },
  {
   "cell_type": "code",
   "execution_count": 3,
   "id": "20d78b57-88b2-4901-806b-69b19321fd31",
   "metadata": {},
   "outputs": [
    {
     "data": {
      "text/plain": [
       "'2.0.2'"
      ]
     },
     "execution_count": 3,
     "metadata": {},
     "output_type": "execute_result"
    }
   ],
   "source": [
    "np.__version__ #Veamos la version, aqui ya vimos como cambiarla usando dos dostintas maneras"
   ]
  },
  {
   "cell_type": "markdown",
   "id": "cbb8a40e-1c2d-4c4a-aff6-79a1d1a9cf00",
   "metadata": {},
   "source": [
    "Podemos actualizar nuestro `numpy` de la suguiente manera, solo sera temporal pues al cerrar la imagen perderemos la version actualizada y regresara a la version que tenemos arriba."
   ]
  },
  {
   "cell_type": "code",
   "execution_count": 3,
   "id": "448ab722-274d-445f-bb6d-ae4710777119",
   "metadata": {},
   "outputs": [],
   "source": [
    "#!pip install numpy --upgrade #Este se usa para actualizar"
   ]
  },
  {
   "cell_type": "markdown",
   "id": "7e130563-79d0-4af8-a4df-c23726fa35ef",
   "metadata": {},
   "source": [
    "## Funciones para crear arreglos"
   ]
  },
  {
   "cell_type": "markdown",
   "id": "ca9cca5f-ee7c-4471-b335-fce5469760c5",
   "metadata": {},
   "source": [
    "En la siguiente celda se muestra como crear distintos arreglos, ademas de algunas funciones sin necesidad de hacer ninguna operacion."
   ]
  },
  {
   "cell_type": "code",
   "execution_count": 4,
   "id": "26c5f049-139e-418a-8350-a1bb9923e107",
   "metadata": {},
   "outputs": [
    {
     "data": {
      "text/plain": [
       "array([1, 4, 2, 5, 3])"
      ]
     },
     "execution_count": 4,
     "metadata": {},
     "output_type": "execute_result"
    }
   ],
   "source": [
    "np.array([1, 4, 2, 5, 3]) #crear un arreglo"
   ]
  },
  {
   "cell_type": "code",
   "execution_count": 4,
   "id": "8a205030-d166-4d93-a944-6edbdb40f131",
   "metadata": {},
   "outputs": [
    {
     "data": {
      "text/plain": [
       "dtype('int64')"
      ]
     },
     "execution_count": 4,
     "metadata": {},
     "output_type": "execute_result"
    }
   ],
   "source": [
    "x = np.array([1, 4, 2, 5, 3]) #El dtype regresa el tipo de dato dentro del arreglo\n",
    "x.dtype "
   ]
  },
  {
   "cell_type": "code",
   "execution_count": 5,
   "id": "b4351c93-f18a-4f49-ba3a-cd824ad28bf6",
   "metadata": {},
   "outputs": [
    {
     "data": {
      "text/plain": [
       "array([3.14, 4.  , 2.  , 3.  ])"
      ]
     },
     "execution_count": 5,
     "metadata": {},
     "output_type": "execute_result"
    }
   ],
   "source": [
    "np.array([3.14, 4, 2, 3]) #Infiere el tipo mas general de dato y lo asigna"
   ]
  },
  {
   "cell_type": "code",
   "execution_count": 7,
   "id": "536c3144-be1f-45e1-b811-20c1d28b50b4",
   "metadata": {},
   "outputs": [
    {
     "data": {
      "text/plain": [
       "dtype('float64')"
      ]
     },
     "execution_count": 7,
     "metadata": {},
     "output_type": "execute_result"
    }
   ],
   "source": [
    "x = np.array([3.14, 4, 2, 3]) #En este caso flotante.\n",
    "x.dtype"
   ]
  },
  {
   "cell_type": "code",
   "execution_count": 8,
   "id": "73149a6c-88c1-4611-a3af-5f48ad1786e5",
   "metadata": {},
   "outputs": [
    {
     "data": {
      "text/plain": [
       "array([1., 2., 3., 4.])"
      ]
     },
     "execution_count": 8,
     "metadata": {},
     "output_type": "execute_result"
    }
   ],
   "source": [
    "np.array([1, 2, 3, 4], dtype='float64') #Puedes especificar el tipo de las entradas en el arreglo"
   ]
  },
  {
   "cell_type": "markdown",
   "id": "642db59b-ebd8-43c6-ae87-4dbbb102fe43",
   "metadata": {},
   "source": [
    "En el siguiente caso se muestra que si hay floats en el arreglo y le pides solo enteros, trunca los floats a su entero antes del punto."
   ]
  },
  {
   "cell_type": "code",
   "execution_count": 9,
   "id": "b99b569a-36c5-43b0-a3aa-1609d05a7a78",
   "metadata": {},
   "outputs": [
    {
     "data": {
      "text/plain": [
       "array([1, 2, 3, 4])"
      ]
     },
     "execution_count": 9,
     "metadata": {},
     "output_type": "execute_result"
    }
   ],
   "source": [
    "np.array([1.8, 2, 3, 4], dtype='int64') #En caso de que requieras int y el arrglo contenga 'flotantes' entonce lo trunca"
   ]
  },
  {
   "cell_type": "code",
   "execution_count": 15,
   "id": "03096203-b143-4014-9df7-6291aae18945",
   "metadata": {},
   "outputs": [
    {
     "ename": "OverflowError",
     "evalue": "Python integer 200 out of bounds for int8",
     "output_type": "error",
     "traceback": [
      "\u001b[0;31m---------------------------------------------------------------------------\u001b[0m",
      "\u001b[0;31mOverflowError\u001b[0m                             Traceback (most recent call last)",
      "Cell \u001b[0;32mIn[15], line 1\u001b[0m\n\u001b[0;32m----> 1\u001b[0m \u001b[43mnp\u001b[49m\u001b[38;5;241;43m.\u001b[39;49m\u001b[43marray\u001b[49m\u001b[43m(\u001b[49m\u001b[43m[\u001b[49m\u001b[38;5;241;43m200\u001b[39;49m\u001b[43m,\u001b[49m\u001b[43m \u001b[49m\u001b[38;5;241;43m300\u001b[39;49m\u001b[43m,\u001b[49m\u001b[43m \u001b[49m\u001b[38;5;241;43m400\u001b[39;49m\u001b[43m,\u001b[49m\u001b[43m \u001b[49m\u001b[38;5;241;43m500\u001b[39;49m\u001b[43m]\u001b[49m\u001b[43m,\u001b[49m\u001b[43m \u001b[49m\u001b[43mdtype\u001b[49m\u001b[38;5;241;43m=\u001b[39;49m\u001b[38;5;124;43m'\u001b[39;49m\u001b[38;5;124;43mint8\u001b[39;49m\u001b[38;5;124;43m'\u001b[39;49m\u001b[43m)\u001b[49m\n",
      "\u001b[0;31mOverflowError\u001b[0m: Python integer 200 out of bounds for int8"
     ]
    }
   ],
   "source": [
    "np.array([200, 300, 400, 500], dtype='int8') #Cuidado con el tamanio de bits que requieras para guardarlos"
   ]
  },
  {
   "cell_type": "markdown",
   "id": "70da849d-b964-4a66-82f3-147192e29f7a",
   "metadata": {},
   "source": [
    "No solo podemos crear arreglos de \"una dimesion\" sino que podemos crear matrices. "
   ]
  },
  {
   "cell_type": "code",
   "execution_count": 12,
   "id": "f3bf7f18-3ffc-4b23-bd4b-684890e5d924",
   "metadata": {},
   "outputs": [
    {
     "data": {
      "text/plain": [
       "array([[1, 2, 3],\n",
       "       [4, 5, 6],\n",
       "       [7, 8, 9]])"
      ]
     },
     "execution_count": 12,
     "metadata": {},
     "output_type": "execute_result"
    }
   ],
   "source": [
    "np.array([[1, 2, 3],\n",
    "          [4, 5, 6],\n",
    "          [7, 8, 9]]) #De esta manera es como se crea una matriz en numpy"
   ]
  },
  {
   "cell_type": "markdown",
   "id": "1fe887f2-1f30-43e9-a1fc-65ceab15dc20",
   "metadata": {},
   "source": [
    "Podemos hacer una lista de rangos, algo que hay que notar aqui es que no nos regresa una matriz. Cada celda esta comentada con una breve descripcion  del metodo."
   ]
  },
  {
   "cell_type": "code",
   "execution_count": 13,
   "id": "18978729-831c-46d1-a3e3-946888ab0bc9",
   "metadata": {},
   "outputs": [
    {
     "data": {
      "text/plain": [
       "[range(2, 5), range(4, 7), range(6, 9)]"
      ]
     },
     "execution_count": 13,
     "metadata": {},
     "output_type": "execute_result"
    }
   ],
   "source": [
    "[range(i, i + 3) for i in [2, 4, 6]] #Sin ser arreglo, esto solo son rangos"
   ]
  },
  {
   "cell_type": "markdown",
   "id": "6ae1398a-b444-4325-b664-bfd9c433389a",
   "metadata": {},
   "source": [
    "Mientras que si usamos `numpy` si nos da una matriz."
   ]
  },
  {
   "cell_type": "code",
   "execution_count": 14,
   "id": "202da2e2-fff5-4640-b2ed-8ca122ddb4d9",
   "metadata": {},
   "outputs": [
    {
     "data": {
      "text/plain": [
       "array([[2, 3, 4],\n",
       "       [4, 5, 6],\n",
       "       [6, 7, 8]])"
      ]
     },
     "execution_count": 14,
     "metadata": {},
     "output_type": "execute_result"
    }
   ],
   "source": [
    "np.array([range(i, i + 3) for i in [2, 4, 6]]) #Mientras que para un arrglo de numpy hace el desarrollo"
   ]
  },
  {
   "cell_type": "markdown",
   "id": "5f866142-4b62-4111-b527-f5c2c8a33d1d",
   "metadata": {},
   "source": [
    "Ahora veremos tipos especificos de matrices."
   ]
  },
  {
   "cell_type": "code",
   "execution_count": 16,
   "id": "655b0960-bef1-4442-845a-074f9c47db9f",
   "metadata": {},
   "outputs": [
    {
     "data": {
      "text/plain": [
       "array([0, 0, 0, 0, 0, 0, 0, 0, 0, 0])"
      ]
     },
     "execution_count": 16,
     "metadata": {},
     "output_type": "execute_result"
    }
   ],
   "source": [
    "np.zeros(10, dtype=\"int\") #np.zeros te crea un arreglo de solo 0's y de tipo entero, nota que el numero te pone la dimension (1,10)"
   ]
  },
  {
   "cell_type": "code",
   "execution_count": 17,
   "id": "4e509937-b960-4b8c-be57-357687c54cfd",
   "metadata": {},
   "outputs": [
    {
     "data": {
      "text/plain": [
       "dtype('int64')"
      ]
     },
     "execution_count": 17,
     "metadata": {},
     "output_type": "execute_result"
    }
   ],
   "source": [
    "x = np.zeros(10, dtype=\"int\")\n",
    "x.dtype"
   ]
  },
  {
   "cell_type": "code",
   "execution_count": 18,
   "id": "6246243f-7128-424e-80c8-42cfe3158cfa",
   "metadata": {},
   "outputs": [
    {
     "data": {
      "text/plain": [
       "array(['', '', '', '', '', '', '', '', '', ''], dtype='<U1')"
      ]
     },
     "execution_count": 18,
     "metadata": {},
     "output_type": "execute_result"
    }
   ],
   "source": [
    "np.zeros(10, dtype=\"str\") #En este caso se le pide tipo str, lo que regresa es una cadena VACIA"
   ]
  },
  {
   "cell_type": "code",
   "execution_count": 19,
   "id": "60094fcd-211e-4837-97d8-85014ae5267b",
   "metadata": {},
   "outputs": [
    {
     "data": {
      "text/plain": [
       "dtype('<U1')"
      ]
     },
     "execution_count": 19,
     "metadata": {},
     "output_type": "execute_result"
    }
   ],
   "source": [
    "x = np.zeros(10, dtype=\"str\") #Arrreglo de cadenas\n",
    "x.dtype\n",
    "#El < indica el detalle sobre como se almacenan los bytes en la memoria.\n",
    "#El U indica que los elementos del arreglo son de tipo Unicode string (cadena de texto en formato Unicode).\n",
    "#El 1 indica que el maximo de cada string es un carater."
   ]
  },
  {
   "cell_type": "code",
   "execution_count": 20,
   "id": "1beb263f-874a-4aa3-91ec-a51e70e7ae0f",
   "metadata": {},
   "outputs": [
    {
     "data": {
      "text/plain": [
       "array([[1., 1., 1., 1., 1.],\n",
       "       [1., 1., 1., 1., 1.],\n",
       "       [1., 1., 1., 1., 1.]])"
      ]
     },
     "execution_count": 20,
     "metadata": {},
     "output_type": "execute_result"
    }
   ],
   "source": [
    "np.ones((3, 5), dtype=\"float\") #np.ones funciona como np.ceros, en este caso la dimension es (3,5)"
   ]
  },
  {
   "cell_type": "code",
   "execution_count": 13,
   "id": "718e155e-170c-470d-9949-dbf09be7c4fa",
   "metadata": {},
   "outputs": [
    {
     "data": {
      "text/plain": [
       "dtype('float64')"
      ]
     },
     "execution_count": 13,
     "metadata": {},
     "output_type": "execute_result"
    }
   ],
   "source": [
    "x = np.ones((3, 5), dtype=\"float\") \n",
    "x.dtype"
   ]
  },
  {
   "cell_type": "code",
   "execution_count": 12,
   "id": "996146a5-2332-4d9c-99a0-4faea3069af9",
   "metadata": {},
   "outputs": [
    {
     "data": {
      "text/plain": [
       "array([[3.14, 3.14, 3.14, 3.14, 3.14],\n",
       "       [3.14, 3.14, 3.14, 3.14, 3.14],\n",
       "       [3.14, 3.14, 3.14, 3.14, 3.14]])"
      ]
     },
     "execution_count": 12,
     "metadata": {},
     "output_type": "execute_result"
    }
   ],
   "source": [
    "np.full((3, 5), 3.14) #np.full te llena un arreglo de las dimensiones dadas con un solo argumento (aqui 3.14)"
   ]
  },
  {
   "cell_type": "markdown",
   "id": "2973e945-6e2c-499d-8172-a7fd1446af63",
   "metadata": {},
   "source": [
    "**Ejercicio:** Utilizando el sistema de ayuda incorporado de Python y Jupyter, escribe con tus propias palabras qué hacen las siguientes funciones y presenta ejemplos.\n",
    "- `np.eye`\n",
    "- `np.identity`"
   ]
  },
  {
   "cell_type": "code",
   "execution_count": 23,
   "id": "8dba2606-d416-4c0d-8323-63bea40bb297",
   "metadata": {},
   "outputs": [
    {
     "data": {
      "text/plain": [
       "\u001b[0;31mSignature:\u001b[0m\n",
       " \u001b[0mnp\u001b[0m\u001b[0;34m.\u001b[0m\u001b[0meye\u001b[0m\u001b[0;34m(\u001b[0m\u001b[0;34m\u001b[0m\n",
       "\u001b[0;34m\u001b[0m    \u001b[0mN\u001b[0m\u001b[0;34m,\u001b[0m\u001b[0;34m\u001b[0m\n",
       "\u001b[0;34m\u001b[0m    \u001b[0mM\u001b[0m\u001b[0;34m=\u001b[0m\u001b[0;32mNone\u001b[0m\u001b[0;34m,\u001b[0m\u001b[0;34m\u001b[0m\n",
       "\u001b[0;34m\u001b[0m    \u001b[0mk\u001b[0m\u001b[0;34m=\u001b[0m\u001b[0;36m0\u001b[0m\u001b[0;34m,\u001b[0m\u001b[0;34m\u001b[0m\n",
       "\u001b[0;34m\u001b[0m    \u001b[0mdtype\u001b[0m\u001b[0;34m=\u001b[0m\u001b[0;34m<\u001b[0m\u001b[0;32mclass\u001b[0m \u001b[0;34m'float'\u001b[0m\u001b[0;34m>\u001b[0m\u001b[0;34m,\u001b[0m\u001b[0;34m\u001b[0m\n",
       "\u001b[0;34m\u001b[0m    \u001b[0morder\u001b[0m\u001b[0;34m=\u001b[0m\u001b[0;34m'C'\u001b[0m\u001b[0;34m,\u001b[0m\u001b[0;34m\u001b[0m\n",
       "\u001b[0;34m\u001b[0m    \u001b[0;34m*\u001b[0m\u001b[0;34m,\u001b[0m\u001b[0;34m\u001b[0m\n",
       "\u001b[0;34m\u001b[0m    \u001b[0mdevice\u001b[0m\u001b[0;34m=\u001b[0m\u001b[0;32mNone\u001b[0m\u001b[0;34m,\u001b[0m\u001b[0;34m\u001b[0m\n",
       "\u001b[0;34m\u001b[0m    \u001b[0mlike\u001b[0m\u001b[0;34m=\u001b[0m\u001b[0;32mNone\u001b[0m\u001b[0;34m,\u001b[0m\u001b[0;34m\u001b[0m\n",
       "\u001b[0;34m\u001b[0m\u001b[0;34m)\u001b[0m\u001b[0;34m\u001b[0m\u001b[0;34m\u001b[0m\u001b[0m\n",
       "\u001b[0;31mDocstring:\u001b[0m\n",
       "Return a 2-D array with ones on the diagonal and zeros elsewhere.\n",
       "\n",
       "Parameters\n",
       "----------\n",
       "N : int\n",
       "  Number of rows in the output.\n",
       "M : int, optional\n",
       "  Number of columns in the output. If None, defaults to `N`.\n",
       "k : int, optional\n",
       "  Index of the diagonal: 0 (the default) refers to the main diagonal,\n",
       "  a positive value refers to an upper diagonal, and a negative value\n",
       "  to a lower diagonal.\n",
       "dtype : data-type, optional\n",
       "  Data-type of the returned array.\n",
       "order : {'C', 'F'}, optional\n",
       "    Whether the output should be stored in row-major (C-style) or\n",
       "    column-major (Fortran-style) order in memory.\n",
       "\n",
       "    .. versionadded:: 1.14.0\n",
       "device : str, optional\n",
       "    The device on which to place the created array. Default: None.\n",
       "    For Array-API interoperability only, so must be ``\"cpu\"`` if passed.\n",
       "\n",
       "    .. versionadded:: 2.0.0\n",
       "like : array_like, optional\n",
       "    Reference object to allow the creation of arrays which are not\n",
       "    NumPy arrays. If an array-like passed in as ``like`` supports\n",
       "    the ``__array_function__`` protocol, the result will be defined\n",
       "    by it. In this case, it ensures the creation of an array object\n",
       "    compatible with that passed in via this argument.\n",
       "\n",
       "    .. versionadded:: 1.20.0\n",
       "\n",
       "Returns\n",
       "-------\n",
       "I : ndarray of shape (N,M)\n",
       "  An array where all elements are equal to zero, except for the `k`-th\n",
       "  diagonal, whose values are equal to one.\n",
       "\n",
       "See Also\n",
       "--------\n",
       "identity : (almost) equivalent function\n",
       "diag : diagonal 2-D array from a 1-D array specified by the user.\n",
       "\n",
       "Examples\n",
       "--------\n",
       ">>> np.eye(2, dtype=int)\n",
       "array([[1, 0],\n",
       "       [0, 1]])\n",
       ">>> np.eye(3, k=1)\n",
       "array([[0.,  1.,  0.],\n",
       "       [0.,  0.,  1.],\n",
       "       [0.,  0.,  0.]])\n",
       "\u001b[0;31mFile:\u001b[0m      /opt/conda/lib/python3.11/site-packages/numpy/lib/_twodim_base_impl.py\n",
       "\u001b[0;31mType:\u001b[0m      function"
      ]
     },
     "metadata": {},
     "output_type": "display_data"
    }
   ],
   "source": [
    "? np.eye"
   ]
  },
  {
   "cell_type": "markdown",
   "id": "e3ed8b53-9b1d-496c-b108-3604161525ab",
   "metadata": {},
   "source": [
    "np.eye(\n",
    "    N,\n",
    "    M=None,\n",
    "    k=0,\n",
    "    dtype=<class 'float'>,\n",
    "    order='C',\n",
    "    *,\n",
    "    device=None,\n",
    "    like=None,\n",
    ")\n",
    "\n",
    "N: Numero de renglones.\n",
    "\n",
    "M: Numetro de columnas, si no se especifica entonces M=N.\n",
    "\n",
    "k: Se refiere a la posicion de la diagonal de unos, depende del signo del ENTERO la diagonal de dezplaza posiciones arriba o abajo.\n",
    "\n",
    "dtype: El tipo de dato que generalice las entradas.\n",
    "\n",
    "order: La forma en que se guarda en memeoria, C por reglon tipo C y F por columna tipo Fortran.\n",
    "\n",
    "like: Crear un nuevo array con las mismas características (como el tipo de datos) de un array de alguna otra libreria que no sea `numpy`, ya que si es un arreglo de `numpy` no lo reconoce y te lo pone como `None` que es flotante."
   ]
  },
  {
   "cell_type": "markdown",
   "id": "d6f72e90-1437-4859-b1e1-b115a6b94d14",
   "metadata": {},
   "source": [
    "Ejemplos de uso:"
   ]
  },
  {
   "cell_type": "code",
   "execution_count": 52,
   "id": "2c04aa25-fb5b-4bb9-a201-bf08a8436957",
   "metadata": {},
   "outputs": [
    {
     "data": {
      "text/plain": [
       "array([[0.+0.j, 1.+0.j, 0.+0.j, 0.+0.j],\n",
       "       [0.+0.j, 0.+0.j, 1.+0.j, 0.+0.j],\n",
       "       [0.+0.j, 0.+0.j, 0.+0.j, 1.+0.j],\n",
       "       [0.+0.j, 0.+0.j, 0.+0.j, 0.+0.j],\n",
       "       [0.+0.j, 0.+0.j, 0.+0.j, 0.+0.j]])"
      ]
     },
     "execution_count": 52,
     "metadata": {},
     "output_type": "execute_result"
    }
   ],
   "source": [
    "'''Tomemos un arreglo x como sigue, nuestra el arrglo que se crea despues es de 5 renglones, 4 columnas,\n",
    "la diagonal de 1's esta recorrida para arriba en uno, de tipo complejo y guardada como C-contigua.'''\n",
    "np.eye(5,4,k=1,dtype=np.complex128 ,order='C') "
   ]
  },
  {
   "cell_type": "code",
   "execution_count": 31,
   "id": "0e897b01-2641-4453-a4ba-94a7df872595",
   "metadata": {},
   "outputs": [
    {
     "data": {
      "text/plain": [
       "\u001b[0;31mSignature:\u001b[0m  \u001b[0mnp\u001b[0m\u001b[0;34m.\u001b[0m\u001b[0midentity\u001b[0m\u001b[0;34m(\u001b[0m\u001b[0mn\u001b[0m\u001b[0;34m,\u001b[0m \u001b[0mdtype\u001b[0m\u001b[0;34m=\u001b[0m\u001b[0;32mNone\u001b[0m\u001b[0;34m,\u001b[0m \u001b[0;34m*\u001b[0m\u001b[0;34m,\u001b[0m \u001b[0mlike\u001b[0m\u001b[0;34m=\u001b[0m\u001b[0;32mNone\u001b[0m\u001b[0;34m)\u001b[0m\u001b[0;34m\u001b[0m\u001b[0;34m\u001b[0m\u001b[0m\n",
       "\u001b[0;31mDocstring:\u001b[0m\n",
       "Return the identity array.\n",
       "\n",
       "The identity array is a square array with ones on\n",
       "the main diagonal.\n",
       "\n",
       "Parameters\n",
       "----------\n",
       "n : int\n",
       "    Number of rows (and columns) in `n` x `n` output.\n",
       "dtype : data-type, optional\n",
       "    Data-type of the output.  Defaults to ``float``.\n",
       "like : array_like, optional\n",
       "    Reference object to allow the creation of arrays which are not\n",
       "    NumPy arrays. If an array-like passed in as ``like`` supports\n",
       "    the ``__array_function__`` protocol, the result will be defined\n",
       "    by it. In this case, it ensures the creation of an array object\n",
       "    compatible with that passed in via this argument.\n",
       "\n",
       "    .. versionadded:: 1.20.0\n",
       "\n",
       "Returns\n",
       "-------\n",
       "out : ndarray\n",
       "    `n` x `n` array with its main diagonal set to one,\n",
       "    and all other elements 0.\n",
       "\n",
       "Examples\n",
       "--------\n",
       ">>> np.identity(3)\n",
       "array([[1.,  0.,  0.],\n",
       "       [0.,  1.,  0.],\n",
       "       [0.,  0.,  1.]])\n",
       "\u001b[0;31mFile:\u001b[0m      /opt/conda/lib/python3.11/site-packages/numpy/_core/numeric.py\n",
       "\u001b[0;31mType:\u001b[0m      function"
      ]
     },
     "metadata": {},
     "output_type": "display_data"
    }
   ],
   "source": [
    "? np.identity"
   ]
  },
  {
   "cell_type": "markdown",
   "id": "f9150385-4779-465a-8f21-ff87a80e8c23",
   "metadata": {},
   "source": [
    "np.identity(n, dtype=None, *, like=None)\n",
    "\n",
    "n: Numero de reglones y columnas.\n",
    "\n",
    "dtype=None: El tipo de datos que queremos que tenga.\n",
    "\n",
    "like:Crear un nuevo array con las mismas características (como el tipo de datos) de un array de alguna otra libreria que no sea `numpy`, ya que si es un arreglo de `numpy` no lo reconoce y te lo pone como `None` que es flotante."
   ]
  },
  {
   "cell_type": "markdown",
   "id": "d614c426-b187-4eb3-928d-39d467f53658",
   "metadata": {},
   "source": [
    "Ejemplo de uso:"
   ]
  },
  {
   "cell_type": "code",
   "execution_count": 3,
   "id": "ac7031d3-9706-4900-bacf-5a142dff1223",
   "metadata": {},
   "outputs": [
    {
     "data": {
      "text/plain": [
       "array([[1, 0, 0, 0, 0, 0],\n",
       "       [0, 1, 0, 0, 0, 0],\n",
       "       [0, 0, 1, 0, 0, 0],\n",
       "       [0, 0, 0, 1, 0, 0],\n",
       "       [0, 0, 0, 0, 1, 0],\n",
       "       [0, 0, 0, 0, 0, 1]], dtype=uint8)"
      ]
     },
     "execution_count": 3,
     "metadata": {},
     "output_type": "execute_result"
    }
   ],
   "source": [
    " np.identity(6, dtype=np.uint8) #cada elemento ocupando un bit."
   ]
  },
  {
   "cell_type": "markdown",
   "id": "f488d27f-fae1-4c5e-8e7e-b510796d53ef",
   "metadata": {},
   "source": [
    "## Intervalos de valores"
   ]
  },
  {
   "cell_type": "markdown",
   "id": "e4ba2c93-fcfa-4680-b6a4-a7dde5557d74",
   "metadata": {},
   "source": [
    "EL metodo `linspace` toma el intervalo que emepieza en 0 y termina en 1, lo divide en 9 partes en cuantas partes debe ser entero no negativo"
   ]
  },
  {
   "cell_type": "code",
   "execution_count": 73,
   "id": "0fa45cc5-0106-45f6-83bc-dd337abff82c",
   "metadata": {},
   "outputs": [
    {
     "data": {
      "text/plain": [
       "array([0.        , 0.11111111, 0.22222222, 0.33333333, 0.44444444,\n",
       "       0.55555556, 0.66666667, 0.77777778, 0.88888889, 1.        ])"
      ]
     },
     "execution_count": 73,
     "metadata": {},
     "output_type": "execute_result"
    }
   ],
   "source": [
    "np.linspace(0,1,10)  "
   ]
  },
  {
   "cell_type": "markdown",
   "id": "d54cfe3d-2dca-4d8b-b222-2de65e9bdd86",
   "metadata": {},
   "source": [
    "Calculemos el tamanio del resultado:"
   ]
  },
  {
   "cell_type": "code",
   "execution_count": 56,
   "id": "23943729-f82c-4328-b9a5-fcb6aefe2d56",
   "metadata": {},
   "outputs": [
    {
     "data": {
      "text/plain": [
       "10"
      ]
     },
     "execution_count": 56,
     "metadata": {},
     "output_type": "execute_result"
    }
   ],
   "source": [
    "x = np.linspace(0,1,10) #sin embargo el arreglo resultante tiene 10 elementos, no es exclusivo en el paro\n",
    "len(x)"
   ]
  },
  {
   "cell_type": "markdown",
   "id": "31c176d7-8d52-4421-8514-2185d1097732",
   "metadata": {},
   "source": [
    " El metodo `arange` crea un arreglo de valores con un rango y de saltos especificos, inicia va saltando hasta llegar al paro"
   ]
  },
  {
   "cell_type": "code",
   "execution_count": 66,
   "id": "963002ca-beb7-4310-b6cc-286d62898669",
   "metadata": {},
   "outputs": [
    {
     "data": {
      "text/plain": [
       "array([ 0, 10, 20, 30, 40, 50, 60, 70, 80, 90])"
      ]
     },
     "execution_count": 66,
     "metadata": {},
     "output_type": "execute_result"
    }
   ],
   "source": [
    "np.arange(0,100,10)"
   ]
  },
  {
   "cell_type": "markdown",
   "id": "eaf21f57-4103-48d8-ab69-c158ef12dc17",
   "metadata": {},
   "source": [
    "Calculemos la longitud del arreglo anterior:"
   ]
  },
  {
   "cell_type": "code",
   "execution_count": 75,
   "id": "dc3b39ac-86c9-4755-a6b2-aaebb5ad3b78",
   "metadata": {},
   "outputs": [
    {
     "data": {
      "text/plain": [
       "10"
      ]
     },
     "execution_count": 75,
     "metadata": {},
     "output_type": "execute_result"
    }
   ],
   "source": [
    "x = np.arange(0,100,10) #note que el paro es exclusivo\n",
    "len(x)"
   ]
  },
  {
   "cell_type": "markdown",
   "id": "0c52908f-ba26-45b7-9a0d-39ac90d045f9",
   "metadata": {},
   "source": [
    "Note que a diferencia de `linspace` este ultimo acepta flotantes en el \"salto\"."
   ]
  },
  {
   "cell_type": "code",
   "execution_count": 79,
   "id": "46043d34-ee4b-478e-bb5e-f73c08b3776b",
   "metadata": {},
   "outputs": [
    {
     "data": {
      "text/plain": [
       "array([ 0. ,  0.1,  0.2,  0.3,  0.4,  0.5,  0.6,  0.7,  0.8,  0.9,  1. ,\n",
       "        1.1,  1.2,  1.3,  1.4,  1.5,  1.6,  1.7,  1.8,  1.9,  2. ,  2.1,\n",
       "        2.2,  2.3,  2.4,  2.5,  2.6,  2.7,  2.8,  2.9,  3. ,  3.1,  3.2,\n",
       "        3.3,  3.4,  3.5,  3.6,  3.7,  3.8,  3.9,  4. ,  4.1,  4.2,  4.3,\n",
       "        4.4,  4.5,  4.6,  4.7,  4.8,  4.9,  5. ,  5.1,  5.2,  5.3,  5.4,\n",
       "        5.5,  5.6,  5.7,  5.8,  5.9,  6. ,  6.1,  6.2,  6.3,  6.4,  6.5,\n",
       "        6.6,  6.7,  6.8,  6.9,  7. ,  7.1,  7.2,  7.3,  7.4,  7.5,  7.6,\n",
       "        7.7,  7.8,  7.9,  8. ,  8.1,  8.2,  8.3,  8.4,  8.5,  8.6,  8.7,\n",
       "        8.8,  8.9,  9. ,  9.1,  9.2,  9.3,  9.4,  9.5,  9.6,  9.7,  9.8,\n",
       "        9.9, 10. , 10.1, 10.2, 10.3, 10.4, 10.5, 10.6, 10.7, 10.8, 10.9])"
      ]
     },
     "execution_count": 79,
     "metadata": {},
     "output_type": "execute_result"
    }
   ],
   "source": [
    "np.arange(0,11,0.1) "
   ]
  },
  {
   "cell_type": "markdown",
   "id": "3d76b674-6c9e-447a-b52f-60be879a8378",
   "metadata": {},
   "source": [
    "Probemos si `range` acepta flotantes:"
   ]
  },
  {
   "cell_type": "code",
   "execution_count": 81,
   "id": "20d06e99-7adc-4b92-a192-1c63fcd6b397",
   "metadata": {},
   "outputs": [
    {
     "ename": "TypeError",
     "evalue": "'float' object cannot be interpreted as an integer",
     "output_type": "error",
     "traceback": [
      "\u001b[0;31m---------------------------------------------------------------------------\u001b[0m",
      "\u001b[0;31mTypeError\u001b[0m                                 Traceback (most recent call last)",
      "Cell \u001b[0;32mIn[81], line 1\u001b[0m\n\u001b[0;32m----> 1\u001b[0m \u001b[38;5;28;43mrange\u001b[39;49m\u001b[43m(\u001b[49m\u001b[38;5;241;43m0\u001b[39;49m\u001b[43m,\u001b[49m\u001b[38;5;241;43m1\u001b[39;49m\u001b[43m,\u001b[49m\u001b[38;5;241;43m0.1\u001b[39;49m\u001b[43m)\u001b[49m\n",
      "\u001b[0;31mTypeError\u001b[0m: 'float' object cannot be interpreted as an integer"
     ]
    }
   ],
   "source": [
    "range(0,1,0.1)"
   ]
  },
  {
   "cell_type": "markdown",
   "id": "349deaf9-a40b-4de6-8d51-96c3018aea83",
   "metadata": {},
   "source": [
    "**Ejercicio:** Implementa una función llamada `float_range` que sea como `range` pero que funcione con valores flotantes."
   ]
  },
  {
   "cell_type": "code",
   "execution_count": 13,
   "id": "149b1f19-88f2-44c5-94d7-9fd168992ecc",
   "metadata": {},
   "outputs": [
    {
     "name": "stdout",
     "output_type": "stream",
     "text": [
      "0.5\n",
      "0.8\n",
      "1.1\n",
      "1.4\n",
      "1.7\n"
     ]
    }
   ],
   "source": [
    "def float_range_1(comienzo, fin, salto):\n",
    "    \"\"\"Genera una lista de números flotantes desde a hasta b (excluido) con un salto especifico.\n",
    "    args:\n",
    "    comienzo (float): donde empezar.\n",
    "    fin (float): donde parar (es exclusivo, este fin no se alcanza)\n",
    "    salto (float): de cuando es el incremento\"\"\"\n",
    " \n",
    "    while comienzo < fin:\n",
    "        yield round(comienzo, 10)\n",
    "        comienzo += salto\n",
    "\n",
    "\n",
    "#por ejemplo\n",
    "for num in float_range_1(0.5, 2.0, 0.3):\n",
    "    print(num)\n"
   ]
  },
  {
   "cell_type": "markdown",
   "id": "04873c18-4d16-4cb0-9101-ef1b0eb562b5",
   "metadata": {},
   "source": [
    "Esa se creo apartir de un comentario en clase sobre `yield`, sin embargo le encuentro algunas debillidades, ya que no puedes acceder a la lista si lo requieres en alguna parte mas adelante"
   ]
  },
  {
   "cell_type": "code",
   "execution_count": 14,
   "id": "d7131c93-6c52-4b01-82d3-345110494413",
   "metadata": {},
   "outputs": [
    {
     "data": {
      "text/plain": [
       "array([<generator object float_range_1 at 0x7f75e0517140>,\n",
       "       <generator object float_range_1 at 0x7f75e0517060>,\n",
       "       <generator object float_range_1 at 0x7f75e05174c0>], dtype=object)"
      ]
     },
     "execution_count": 14,
     "metadata": {},
     "output_type": "execute_result"
    }
   ],
   "source": [
    "np.array([float_range_1(i, i + 3,0.5) for i in [2, 4, 6]])"
   ]
  },
  {
   "cell_type": "code",
   "execution_count": 15,
   "id": "c9ea15f7-ce33-43ca-b78c-603223d0e89f",
   "metadata": {},
   "outputs": [
    {
     "data": {
      "text/plain": [
       "[<generator object float_range_1 at 0x7f75e05175a0>,\n",
       " <generator object float_range_1 at 0x7f75e0517760>,\n",
       " <generator object float_range_1 at 0x7f75e0517a00>]"
      ]
     },
     "execution_count": 15,
     "metadata": {},
     "output_type": "execute_result"
    }
   ],
   "source": [
    "[float_range_1(i, i + 3,0.5) for i in [2, 4, 6]]"
   ]
  },
  {
   "cell_type": "markdown",
   "id": "a9d6b33c-3800-42c1-9de1-db6101c1dcc5",
   "metadata": {},
   "source": [
    "Asi que decidi crear una que de la lista y funcione como `range` en el momento de suar comprension de listas, si bien la funcion hace la chamba, esta no guarda rangos."
   ]
  },
  {
   "cell_type": "code",
   "execution_count": 16,
   "id": "04a56332-7640-4e82-95f5-baf1473993a3",
   "metadata": {},
   "outputs": [
    {
     "name": "stdout",
     "output_type": "stream",
     "text": [
      "0.5\n",
      "0.8\n",
      "1.1\n",
      "1.4\n",
      "1.7\n"
     ]
    }
   ],
   "source": [
    "def float_range_2(comienzo, fin, salto):\n",
    "    \"\"\"Genera una lista de números flotantes desde 'comienzo' hasta 'fin' (excluido) con un salto especifico.\n",
    "    args:\n",
    "    comienzo (float): donde empezar.\n",
    "    fin (float): donde parar (es exclusivo, este fin no se alcanza)\n",
    "    salto (float): de cuando es el incremento\"\"\"\n",
    "    \n",
    "    resultado = []\n",
    "    while  comienzo< fin:\n",
    "        resultado.append(round(comienzo, 2))   #agregar el valor actual a la lista\n",
    "        round(comienzo,10)\n",
    "        comienzo += salto  #incrementar el valor actual por el paso\n",
    "    return resultado\n",
    "#por ejemplo\n",
    "for num in float_range_2(0.5, 2.0, 0.3):\n",
    "    print(num)"
   ]
  },
  {
   "cell_type": "code",
   "execution_count": 116,
   "id": "f54108ec-90a5-4630-a4e6-1e488241c6c7",
   "metadata": {},
   "outputs": [
    {
     "data": {
      "text/plain": [
       "array([[2. , 2.5, 3. , 3.5, 4. , 4.5],\n",
       "       [4. , 4.5, 5. , 5.5, 6. , 6.5],\n",
       "       [6. , 6.5, 7. , 7.5, 8. , 8.5]])"
      ]
     },
     "execution_count": 116,
     "metadata": {},
     "output_type": "execute_result"
    }
   ],
   "source": [
    "np.array([float_range_2(i, i + 3,0.5) for i in [2, 4, 6]])"
   ]
  },
  {
   "cell_type": "code",
   "execution_count": 108,
   "id": "8e432884-f8e2-485d-ba67-7fdfeaf585fb",
   "metadata": {},
   "outputs": [
    {
     "data": {
      "text/plain": [
       "[[2, 2.5, 3.0, 3.5, 4.0, 4.5],\n",
       " [4, 4.5, 5.0, 5.5, 6.0, 6.5],\n",
       " [6, 6.5, 7.0, 7.5, 8.0, 8.5]]"
      ]
     },
     "execution_count": 108,
     "metadata": {},
     "output_type": "execute_result"
    }
   ],
   "source": [
    "[float_range_2(i, i + 3,0.5) for i in [2, 4, 6]]"
   ]
  },
  {
   "cell_type": "markdown",
   "id": "824d26b2-2afb-4117-abb0-1f050f4629b2",
   "metadata": {},
   "source": [
    "**Ejercicio:** Escribe una función llamdada `linspace_with_arange` que sea como `np.linspace` pero que esté implementada con una única invocación de `np.arange`."
   ]
  },
  {
   "cell_type": "code",
   "execution_count": 166,
   "id": "19927e3c-816c-4673-9a80-4c093d7841e4",
   "metadata": {},
   "outputs": [],
   "source": [
    "def linspace_with_arange(comienzo, fin, partes):\n",
    "    \"\"\"Genera un array de números igualmente espaciados desde 'comienzo' hasta 'fin' (incluyendo 'fin') usando np.arange.\n",
    "        args:\n",
    "        comienzo (float): donde empezar.\n",
    "        fin (float): donde parar (es exclusivo, este fin no se alcanza)\n",
    "        salto (float): de cuando es el incremento\"\"\"\n",
    "    if partes <= 0:\n",
    "        return np.array([])  #si las partes son 0 o negativas, devuelve un array vacío\n",
    "    if partes == 1:\n",
    "        return np.array([comienzo])  #si las partes son 1, devuelve solo el valor comienzo\n",
    "\n",
    "    salto = (fin - comienzo) / (partes - 1)  #calcular el salto\n",
    "    return np.arange(comienzo, fin + salto, salto)[:partes] #solo tantas como partes existen"
   ]
  },
  {
   "cell_type": "code",
   "execution_count": 154,
   "id": "dfce16c1-657f-4971-b4eb-754784fd7a1e",
   "metadata": {},
   "outputs": [
    {
     "data": {
      "text/plain": [
       "array([0.        , 0.11111111, 0.22222222, 0.33333333, 0.44444444,\n",
       "       0.55555556, 0.66666667, 0.77777778, 0.88888889, 1.        ])"
      ]
     },
     "execution_count": 154,
     "metadata": {},
     "output_type": "execute_result"
    }
   ],
   "source": [
    "np.linspace(0,1,10) #usando linspace"
   ]
  },
  {
   "cell_type": "code",
   "execution_count": 167,
   "id": "4afec067-3e40-40e8-833a-dad31249aacb",
   "metadata": {},
   "outputs": [
    {
     "data": {
      "text/plain": [
       "array([0.        , 0.11111111, 0.22222222, 0.33333333, 0.44444444,\n",
       "       0.55555556, 0.66666667, 0.77777778, 0.88888889, 1.        ])"
      ]
     },
     "execution_count": 167,
     "metadata": {},
     "output_type": "execute_result"
    }
   ],
   "source": [
    "linspace_with_arange(0, 1, 10)"
   ]
  },
  {
   "cell_type": "markdown",
   "id": "19bc431e-e458-4733-9d18-6fff9a5b8059",
   "metadata": {},
   "source": [
    "**Ejercicio:** Escribe una función llamada `arange_with_linspace` que sea como `np.arange` pero que esté implementada con una única invocación de `np.linspace`."
   ]
  },
  {
   "cell_type": "code",
   "execution_count": 174,
   "id": "cb11a97d-d9c4-4e81-a056-f70b73de2f20",
   "metadata": {},
   "outputs": [],
   "source": [
    "def arange_with_linspace(comienzo, fin, salto):\n",
    "    \"\"\"Genera un array de números desde 'comienzo' hasta 'fin' (no inclusivo) con un paso especificado usando np.linspace.\n",
    "        args:\n",
    "        comienzo (float): donde empezar.\n",
    "        fin (float): donde parar (es exclusivo, este fin no se alcanza)\n",
    "        salto (float): de cuando es el incremento\"\"\"\n",
    "    if salto <= 0:\n",
    "        raise ValueError(\"El salto debe ser positivo.\")  # Verificar que el paso sea positivo\n",
    "\n",
    "    # Calcular el número de partes necesarias\n",
    "    num_partes = int(np.ceil((fin - comienzo) / salto))\n",
    "    \n",
    "    # Usar np.linspace para generar los valores\n",
    "    return np.linspace(comienzo, comienzo + (num_partes - 1) * salto, num_partes)"
   ]
  },
  {
   "cell_type": "code",
   "execution_count": 172,
   "id": "1381ab29-ad03-4fb8-b550-6926a1c6b798",
   "metadata": {},
   "outputs": [
    {
     "data": {
      "text/plain": [
       "array([ 0. ,  0.1,  0.2,  0.3,  0.4,  0.5,  0.6,  0.7,  0.8,  0.9,  1. ,\n",
       "        1.1,  1.2,  1.3,  1.4,  1.5,  1.6,  1.7,  1.8,  1.9,  2. ,  2.1,\n",
       "        2.2,  2.3,  2.4,  2.5,  2.6,  2.7,  2.8,  2.9,  3. ,  3.1,  3.2,\n",
       "        3.3,  3.4,  3.5,  3.6,  3.7,  3.8,  3.9,  4. ,  4.1,  4.2,  4.3,\n",
       "        4.4,  4.5,  4.6,  4.7,  4.8,  4.9,  5. ,  5.1,  5.2,  5.3,  5.4,\n",
       "        5.5,  5.6,  5.7,  5.8,  5.9,  6. ,  6.1,  6.2,  6.3,  6.4,  6.5,\n",
       "        6.6,  6.7,  6.8,  6.9,  7. ,  7.1,  7.2,  7.3,  7.4,  7.5,  7.6,\n",
       "        7.7,  7.8,  7.9,  8. ,  8.1,  8.2,  8.3,  8.4,  8.5,  8.6,  8.7,\n",
       "        8.8,  8.9,  9. ,  9.1,  9.2,  9.3,  9.4,  9.5,  9.6,  9.7,  9.8,\n",
       "        9.9, 10. , 10.1, 10.2, 10.3, 10.4, 10.5, 10.6, 10.7, 10.8, 10.9])"
      ]
     },
     "execution_count": 172,
     "metadata": {},
     "output_type": "execute_result"
    }
   ],
   "source": [
    "np.arange(0,11,0.1)"
   ]
  },
  {
   "cell_type": "code",
   "execution_count": 184,
   "id": "8622237d-904e-4f20-84e8-7e4e20af4fb2",
   "metadata": {},
   "outputs": [
    {
     "data": {
      "text/plain": [
       "array([ 0. ,  0.1,  0.2,  0.3,  0.4,  0.5,  0.6,  0.7,  0.8,  0.9,  1. ,\n",
       "        1.1,  1.2,  1.3,  1.4,  1.5,  1.6,  1.7,  1.8,  1.9,  2. ,  2.1,\n",
       "        2.2,  2.3,  2.4,  2.5,  2.6,  2.7,  2.8,  2.9,  3. ,  3.1,  3.2,\n",
       "        3.3,  3.4,  3.5,  3.6,  3.7,  3.8,  3.9,  4. ,  4.1,  4.2,  4.3,\n",
       "        4.4,  4.5,  4.6,  4.7,  4.8,  4.9,  5. ,  5.1,  5.2,  5.3,  5.4,\n",
       "        5.5,  5.6,  5.7,  5.8,  5.9,  6. ,  6.1,  6.2,  6.3,  6.4,  6.5,\n",
       "        6.6,  6.7,  6.8,  6.9,  7. ,  7.1,  7.2,  7.3,  7.4,  7.5,  7.6,\n",
       "        7.7,  7.8,  7.9,  8. ,  8.1,  8.2,  8.3,  8.4,  8.5,  8.6,  8.7,\n",
       "        8.8,  8.9,  9. ,  9.1,  9.2,  9.3,  9.4,  9.5,  9.6,  9.7,  9.8,\n",
       "        9.9, 10. , 10.1, 10.2, 10.3, 10.4, 10.5, 10.6, 10.7, 10.8, 10.9])"
      ]
     },
     "execution_count": 184,
     "metadata": {},
     "output_type": "execute_result"
    }
   ],
   "source": [
    "arange_with_linspace(0, 11, 0.1)"
   ]
  },
  {
   "cell_type": "markdown",
   "id": "da55d6b8-832a-4bf4-a496-25d671738103",
   "metadata": {},
   "source": [
    "## Generación de números aleatorios"
   ]
  },
  {
   "cell_type": "markdown",
   "id": "8bf52f96-638f-4f56-88e1-3cde8cc0b065",
   "metadata": {},
   "source": [
    "Veremos ahora como generar numeros aleatorios.\n",
    "\n",
    "`np.random.random()` retorna un numero aleatorio (quiza con distribucion uniforme ;) ) entre 0 y 1, veamos un ejemplo:"
   ]
  },
  {
   "cell_type": "code",
   "execution_count": 109,
   "id": "7309d660-6da2-4fa1-a22d-154063e98e9e",
   "metadata": {},
   "outputs": [
    {
     "data": {
      "text/plain": [
       "0.27854173807498606"
      ]
     },
     "execution_count": 109,
     "metadata": {},
     "output_type": "execute_result"
    }
   ],
   "source": [
    "np.random.random()"
   ]
  },
  {
   "cell_type": "code",
   "execution_count": null,
   "id": "b666da96-cadd-4cf2-97af-9e288be33959",
   "metadata": {},
   "outputs": [],
   "source": [
    "En efecto, son aleatorios."
   ]
  },
  {
   "cell_type": "code",
   "execution_count": 110,
   "id": "e0a6ae11-4e00-47e9-b49f-5595953c1a7d",
   "metadata": {},
   "outputs": [
    {
     "data": {
      "text/plain": [
       "0.8130353030284686"
      ]
     },
     "execution_count": 110,
     "metadata": {},
     "output_type": "execute_result"
    }
   ],
   "source": [
    "np.random.random()"
   ]
  },
  {
   "cell_type": "code",
   "execution_count": 185,
   "id": "ce06dfa1-aaa4-4893-aca6-c769ec3bdede",
   "metadata": {},
   "outputs": [
    {
     "data": {
      "text/plain": [
       "0.609528031855459"
      ]
     },
     "execution_count": 185,
     "metadata": {},
     "output_type": "execute_result"
    }
   ],
   "source": [
    "np.random.random()"
   ]
  },
  {
   "cell_type": "markdown",
   "id": "28d2c036-cb25-4163-b9b5-ab104a31a225",
   "metadata": {},
   "source": [
    "Si no solamente queremos un numero aleatorios, podemos especificar cuantos queremos poniendolo como argumento en `random.random()`. Lo anteiror nos regresa un arreglo de tantos numeros especificaste cuyos elementos son numeros aleatorios entre 0 y 1."
   ]
  },
  {
   "cell_type": "code",
   "execution_count": 20,
   "id": "71cc664e-7b9c-4ad5-b7aa-38d8733b46b1",
   "metadata": {},
   "outputs": [
    {
     "data": {
      "text/plain": [
       "array([0.8213561 , 0.91366746, 0.99972124, 0.32099625, 0.65070732,\n",
       "       0.3065003 , 0.16667207, 0.75901971, 0.44229718, 0.3070616 ])"
      ]
     },
     "execution_count": 20,
     "metadata": {},
     "output_type": "execute_result"
    }
   ],
   "source": [
    "np.random.random(10)"
   ]
  },
  {
   "cell_type": "markdown",
   "id": "40d86bd1-e1ad-49d8-948c-b47cff2816aa",
   "metadata": {},
   "source": [
    "Instala `matplotlib`, lo usaremos un poco pero más adelante discutiremos los detalles."
   ]
  },
  {
   "cell_type": "markdown",
   "id": "8f14eae8-77ad-4672-91e4-9068a3ddbabe",
   "metadata": {},
   "source": [
    "Con la biblioteca `matplotlib` trataremos de identificar que distribucion sigue la funcion `random.random()`."
   ]
  },
  {
   "cell_type": "code",
   "execution_count": 188,
   "id": "303f2906-af76-46e3-af83-114ec79f0e07",
   "metadata": {},
   "outputs": [],
   "source": [
    "import matplotlib as mpl\n",
    "import matplotlib.pyplot as plt"
   ]
  },
  {
   "cell_type": "code",
   "execution_count": null,
   "id": "70adff07-483f-4532-9ca9-54042125dd2c",
   "metadata": {},
   "outputs": [],
   "source": [
    "Para nuestro objetivo podemos generar algunos histogramas para visualizar la distribucion. "
   ]
  },
  {
   "cell_type": "code",
   "execution_count": 190,
   "id": "b5764384-4d87-4374-ba18-6e9f83300be6",
   "metadata": {},
   "outputs": [
    {
     "data": {
      "image/png": "[encoded data removed]",
      "text/plain": [
       "<Figure size 640x480 with 1 Axes>"
      ]
     },
     "metadata": {},
     "output_type": "display_data"
    }
   ],
   "source": [
    "fig, ax = plt.subplots() #crear la figura\n",
    "x = np.random.random(100) #arreglo con 100 numeros aleatorios entre 0 y 1\n",
    "ax.hist( #queremos una figura de tipo histograma\n",
    "    x,\n",
    "    bins=50, #cantidad de 'barritas'\n",
    ")\n",
    "ax.set(\n",
    "    title=\"Histograma de números aleatorios con `np.random.random`\", #le ponemos titulo\n",
    ");"
   ]
  },
  {
   "cell_type": "markdown",
   "id": "6eb0c026-99dc-4bed-85e1-41a04429a782",
   "metadata": {},
   "source": [
    "Observe que el histograma cambia dependiendo de la cantidad de datos aleatorios generes, entre mas datos tendras una mejor vision de la distribucion."
   ]
  },
  {
   "cell_type": "code",
   "execution_count": 193,
   "id": "f8676b58-0f7d-457e-a066-b3d82d5e269b",
   "metadata": {},
   "outputs": [
    {
     "data": {
      "image/png": "[encoded data removed]",
      "text/plain": [
       "<Figure size 640x480 with 1 Axes>"
      ]
     },
     "metadata": {},
     "output_type": "display_data"
    }
   ],
   "source": [
    "fig, ax = plt.subplots() #la construccion y el comentado de este histograma es identico al anterior\n",
    "#salvo que este tiene mas 'barritas' y el arreglo es 1000 veces mas grande\n",
    "x = np.random.random(100000)\n",
    "ax.hist(\n",
    "    x,\n",
    "    bins=50,\n",
    ")\n",
    "ax.set(\n",
    "    title=\"Histograma de números aleatorios con `np.random.random`\",\n",
    "    xlim=(0,1),\n",
    "); #Podemos ver que como que sigue una distrubucion uniforme"
   ]
  },
  {
   "cell_type": "markdown",
   "id": "fee4b47c-17ec-43db-9947-1bde0272bd40",
   "metadata": {},
   "source": [
    "Si hablamos de arreglos y de numeros aleatorios entonces nos gustaria generar arreglos que no necesariamente sean lineales y que cada entrada sea un numero aleatorio, hacer eso es posible siguiento la siguiente sintaxis:\n",
    "\n",
    "Matriz de 10 renglones y 3 columnas con numeros aleatorios que siguen una distribucion uniforme entre 0 y 1:"
   ]
  },
  {
   "cell_type": "code",
   "execution_count": 46,
   "id": "48296676-e63f-4c50-a079-25fc56a684af",
   "metadata": {},
   "outputs": [
    {
     "data": {
      "text/plain": [
       "array([[0.99824116, 0.40893597, 0.45364978],\n",
       "       [0.12817762, 0.47603316, 0.96782992],\n",
       "       [0.54413177, 0.10702053, 0.22210135],\n",
       "       [0.09909802, 0.75945158, 0.76322828],\n",
       "       [0.76542381, 0.88209715, 0.25554041],\n",
       "       [0.92414373, 0.737737  , 0.14942268],\n",
       "       [0.40836925, 0.38654693, 0.84708403],\n",
       "       [0.95757493, 0.84343593, 0.14823899],\n",
       "       [0.57966394, 0.38512959, 0.87343025],\n",
       "       [0.44697821, 0.14918364, 0.62577138]])"
      ]
     },
     "execution_count": 46,
     "metadata": {},
     "output_type": "execute_result"
    }
   ],
   "source": [
    "np.random.random((10, 3)) #crea un arreglo de (i,j) con numeros aleatorios entre 0 y 1 en cada una de sus entradas "
   ]
  },
  {
   "cell_type": "markdown",
   "id": "64556aee-bed8-4bc9-a353-e46b9b5ec3c4",
   "metadata": {},
   "source": [
    "Matriz de 10 renglones y 3 columnas con numeros aleatorios que siguen una distribucion uniforme entre 0 y 1:"
   ]
  },
  {
   "cell_type": "code",
   "execution_count": 47,
   "id": "268c6115-54fd-4388-a2ae-a254c33d1da7",
   "metadata": {},
   "outputs": [
    {
     "data": {
      "text/plain": [
       "array([[[3.09187588e-01, 9.17527270e-01, 3.64961969e-01, 1.20075826e-01,\n",
       "         8.30198056e-01],\n",
       "        [1.86359114e-01, 9.73969893e-01, 9.51270796e-01, 4.45508929e-01,\n",
       "         7.92476763e-01],\n",
       "        [1.11370683e-01, 5.34381268e-04, 6.16064300e-02, 2.19523854e-01,\n",
       "         9.57430239e-01],\n",
       "        [5.97388653e-01, 9.60269545e-01, 7.38148654e-01, 3.01593262e-01,\n",
       "         6.77520664e-01]],\n",
       "\n",
       "       [[8.51628166e-01, 7.31151069e-02, 4.58027992e-01, 7.69430365e-01,\n",
       "         2.49392476e-01],\n",
       "        [6.52876013e-01, 1.23729620e-01, 6.02425346e-01, 1.06349178e-01,\n",
       "         2.56771368e-01],\n",
       "        [1.70474308e-01, 2.69737434e-01, 6.05660985e-01, 8.37957531e-01,\n",
       "         7.70005663e-01],\n",
       "        [4.48214256e-01, 6.09892637e-01, 5.66665971e-02, 6.14386644e-01,\n",
       "         8.25882690e-01]],\n",
       "\n",
       "       [[2.71785658e-01, 9.44643312e-01, 6.48545548e-01, 4.77095165e-02,\n",
       "         7.87793410e-01],\n",
       "        [2.84045264e-01, 5.84093057e-01, 4.08310730e-01, 9.02426669e-01,\n",
       "         7.32430192e-01],\n",
       "        [2.07949268e-01, 5.76474032e-02, 4.38642304e-02, 8.61183513e-01,\n",
       "         7.62665692e-02],\n",
       "        [8.13313499e-01, 9.54209161e-01, 3.22994807e-01, 4.72018980e-01,\n",
       "         9.79436384e-01]]])"
      ]
     },
     "execution_count": 47,
     "metadata": {},
     "output_type": "execute_result"
    }
   ],
   "source": [
    "np.random.random((3,4,5)) #crea un arreglo de (i,j,k) con numeros aleatorios entre 0 y 1 en cada una de sus entradas "
   ]
  },
  {
   "cell_type": "code",
   "execution_count": 191,
   "id": "7407996f-0f60-4adc-bfd2-7c1cc609a45d",
   "metadata": {},
   "outputs": [
    {
     "data": {
      "text/plain": [
       "array([[0.30975193, 0.48721485, 0.11935125],\n",
       "       [0.33531135, 0.30828499, 0.84192844],\n",
       "       [0.59915301, 0.05063769, 0.62053904]])"
      ]
     },
     "execution_count": 191,
     "metadata": {},
     "output_type": "execute_result"
    }
   ],
   "source": [
    "X = np.random.random((3,3))\n",
    "X"
   ]
  },
  {
   "cell_type": "markdown",
   "id": "d2899ac5-47a7-4073-b93d-f7412e605f66",
   "metadata": {},
   "source": [
    "Podemos, tambien, \"verificar\" que la distribucion es uniforme haciendo un histograma bidimensional."
   ]
  },
  {
   "cell_type": "code",
   "execution_count": 49,
   "id": "9cfc36f4-a273-4ac2-8800-1d86990e802d",
   "metadata": {},
   "outputs": [
    {
     "data": {
      "image/png": "[encoded data removed]",
      "text/plain": [
       "<Figure size 640x480 with 1 Axes>"
      ]
     },
     "metadata": {},
     "output_type": "display_data"
    }
   ],
   "source": [
    "fig, ax = plt.subplots()\n",
    "x = np.random.random(1000) #creamos dos arreglos con 1000 entradas de numeros aleatorios entre 0 y 1 \n",
    "y = np.random.random(1000) \n",
    "ax.hist2d( #creamos un histograma bidimensional\n",
    "    x,\n",
    "    y,\n",
    "    bins=(50,50), #ahora necesitamos dos bins para cuadricular \n",
    ");\n",
    "ax.set(\n",
    "    title=\"Histograma de números aleatorios con `np.random.random`\",\n",
    "    xlim=(0,1),\n",
    "    ylim=(0,1),\n",
    ");"
   ]
  },
  {
   "cell_type": "markdown",
   "id": "88ea088c-2e1c-4601-aa47-3f2ba5360238",
   "metadata": {},
   "source": [
    "Ahora bien, no solamente podemos generar numeros aleatorios con distribucion uniforme entre 0 y 1, por ejemplo podemos generar numeros aleatorios con distribucion normal, especificar que media y que desviacion estandar, esto se logra de la siguiente manera:"
   ]
  },
  {
   "cell_type": "code",
   "execution_count": 21,
   "id": "199258d7-d589-4354-a114-cf0b4a2d1783",
   "metadata": {},
   "outputs": [
    {
     "data": {
      "text/plain": [
       "array([ 0.57153632, -0.72561922, -2.12735777,  1.48029304, -1.69748814,\n",
       "       -0.74286689, -0.11287087, -0.35592481, -0.50282329, -1.30761737])"
      ]
     },
     "execution_count": 21,
     "metadata": {},
     "output_type": "execute_result"
    }
   ],
   "source": [
    "np.random.normal(0, 1, 10) #Retorna un arreglo de 10 numeros aleatorios con distribucion normal,media 0 y sdt 1"
   ]
  },
  {
   "cell_type": "markdown",
   "id": "041dfeb2-5d7e-48d3-9769-1deff552a05f",
   "metadata": {},
   "source": [
    "Nuevamente podemos ver por medio de un histograma como estan repartidos los datos que se generaron:"
   ]
  },
  {
   "cell_type": "code",
   "execution_count": 58,
   "id": "87af6287-68c6-4921-8b67-493128d106f4",
   "metadata": {},
   "outputs": [
    {
     "data": {
      "image/png": "[encoded data removed]",
      "text/plain": [
       "<Figure size 640x480 with 1 Axes>"
      ]
     },
     "metadata": {},
     "output_type": "display_data"
    }
   ],
   "source": [
    "fig, ax = plt.subplots() #es igual que el primer hitograma comentado\n",
    "n = 100000\n",
    "x = np.random.normal(0, 1, n)\n",
    "ax.hist(\n",
    "    x,\n",
    "    bins=50,\n",
    ")\n",
    "ax.set(\n",
    "    title=\"Histograma de números aleatorios con `np.random.normal`\",\n",
    "    xlim=(-3.5,3.5),\n",
    ");"
   ]
  },
  {
   "cell_type": "markdown",
   "id": "0e3b03e4-b78d-4e09-82db-fdd83196dd35",
   "metadata": {},
   "source": [
    "Podemos hacer un histograma bidimensional, solo que ahora los colores no deberian de homogeneizarse sino que se tendrian que ver unas tipo curvas de nivel de un solido de revolucion de la funcoion de distribucion normal sobre el eje y, esto se verian como circulos que van cambiando de color de una manera armonioza (no bruzca en cuanto a la paleta de colores). "
   ]
  },
  {
   "cell_type": "code",
   "execution_count": 61,
   "id": "0d8fb03d-aee9-490f-b484-62aff1602a67",
   "metadata": {},
   "outputs": [
    {
     "data": {
      "image/png": "[encoded data removed]",
      "text/plain": [
       "<Figure size 640x480 with 1 Axes>"
      ]
     },
     "metadata": {},
     "output_type": "display_data"
    }
   ],
   "source": [
    "fig, ax = plt.subplots() #igual que el primer histograma bidimensional\n",
    "n = 100000\n",
    "x = np.random.normal(0, 1, n)\n",
    "y = np.random.normal(0, 1, n)\n",
    "ax.hist2d(\n",
    "    x,\n",
    "    y,\n",
    "    bins=(50,50),\n",
    ")\n",
    "ax.set(\n",
    "    title=\"Histograma de números aleatorios con `np.random.normal`\",\n",
    "    xlim=(-3.5,3.5),\n",
    "    ylim=(-3.5,3.5),\n",
    ");"
   ]
  },
  {
   "cell_type": "markdown",
   "id": "34aaa165-8224-4ac2-bffd-2e4bc4caeb26",
   "metadata": {},
   "source": [
    "Y pues vemos que efectivamente parece que sigu una distrubucion normal con media 0 y std 1."
   ]
  },
  {
   "cell_type": "markdown",
   "id": "21246a5d-c89d-4950-a685-e1a77a84bc9d",
   "metadata": {},
   "source": [
    "## Sobre tipos de datos\n",
    "\n",
    "\n",
    "| **Tipo**   | **Descripción**                                                               |\n",
    "|------------|-------------------------------------------------------------------------------|\n",
    "| bool_      | Booleano (True o False) almacenado como un byte                               |\n",
    "| int_       | Tipo de entero por defecto (normalmente int64 o int32)                        |\n",
    "| intc       | Igual que int en C (normalmente int32 o int64)                                |\n",
    "| intp       | Entero usado para índices (igual que ssize_t en C; normalmente int32 o int64) |\n",
    "| int8       | Byte (–128 al 127)                                                            |\n",
    "| int16      | Entero (–32768 al 32767)                                                      |\n",
    "| int32      | Entero (–2147483648 al 2147483647)                                            |\n",
    "| int64      | Entero (–9223372036854775808 al 9223372036854775807)                          |\n",
    "| uint8      | Entero sin signo (0 al 255)                                                   |\n",
    "| uint16     | Entero sin signo (0 al 65535)                                                 |\n",
    "| uint32     | Entero sin signo (0 al 4294967295)                                            |\n",
    "| uint64     | Entero sin signo (0 al 18446744073709551615)                                  |\n",
    "| float_     | Equivalente a float64                                                         |\n",
    "| float16    | Flotante de precisión media (16 bits)                                         |\n",
    "| float32    | Flotante simple (32 bits)                                                     |\n",
    "| float64    | Flotante doble (64 bits)                                                      |\n",
    "| complex_   | Equivalente a complex128                                                      |\n",
    "| complex64  | Número complejo (dos floats simples)                                          |\n",
    "| complex128 | Número complejo (dos floats dobles)                                           |"
   ]
  }
 ],
 "metadata": {
  "kernelspec": {
   "display_name": "Python 3 (ipykernel)",
   "language": "python",
   "name": "python3"
  },
  "language_info": {
   "codemirror_mode": {
    "name": "ipython",
    "version": 3
   },
   "file_extension": ".py",
   "mimetype": "text/x-python",
   "name": "python",
   "nbconvert_exporter": "python",
   "pygments_lexer": "ipython3",
   "version": "3.11.10"
  }
 },
 "nbformat": 4,
 "nbformat_minor": 5
}
